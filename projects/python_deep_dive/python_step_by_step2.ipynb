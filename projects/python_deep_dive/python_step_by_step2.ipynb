{
 "cells": [
  {
   "cell_type": "markdown",
   "id": "08b3656b-da51-462f-a63f-6810c27d5509",
   "metadata": {},
   "source": [
    "## Notebook: python_markdown_step_by_step2.ipynb\n",
    "### Camera & Motion Sesning"
   ]
  },
  {
   "cell_type": "markdown",
   "id": "c349b365-55a0-4065-8f99-7d38782b7b52",
   "metadata": {},
   "source": [
    "### A. Import Libraries Needed for Board & Camera & Motion Sensing\n",
    "1. NO Changes are needed here\n",
    "1. Just understand the libraries being imported"
   ]
  },
  {
   "cell_type": "code",
   "execution_count": null,
   "id": "82c95d14-a61e-40d1-89df-702ab3096298",
   "metadata": {
    "tags": []
   },
   "outputs": [],
   "source": [
    "#### IMPORT LIBRARIES Code Block\n",
    "import board\n",
    "import neopixel\n",
    "import matplotlib.pyplot as plt\n",
    "import cv2\n",
    "import random,math,time\n",
    "from time import sleep\n",
    "from datetime import datetime\n",
    "from sys import exit\n",
    "import subprocess\n",
    "from gpiozero import LED, Button, MotionSensor\n",
    "import signal\n",
    "from signal import pause"
   ]
  },
  {
   "cell_type": "markdown",
   "id": "675ad059-7418-4968-8925-e5d9d8574741",
   "metadata": {},
   "source": [
    "### B. Add the Python Functions Block for functions to light up Pixels and take Camera Images"
   ]
  },
  {
   "cell_type": "markdown",
   "id": "4826697e-6a8f-4c16-ae1b-b3b2cab6fcbf",
   "metadata": {},
   "source": [
    "### Python Functions Block\n",
    "#### You need to modify the ```pixel_colors()``` function"
   ]
  },
  {
   "cell_type": "code",
   "execution_count": null,
   "id": "be964bab-ee19-4a58-b9d2-c2616c9f9ada",
   "metadata": {},
   "outputs": [],
   "source": [
    "def pixel_colors(): # Setting up color arrays for pixels\n",
    "    ### setup a color array of RGB to say rd, gr, bl, cy, mg, ye, wh, of\n",
    "    global rd, gr, bl, cy, mg, ye, wh, of\n",
    "    of = [0,0,0]\n",
    "    wh = [255,255,255]\n",
    "    \n",
    "    #. Modify to setup all the colors below\n",
    "    gr = ???\n",
    "    bl = ???\n",
    "    cy = ???\n",
    "    mg = ???\n",
    "    ye = ???"
   ]
  },
  {
   "cell_type": "code",
   "execution_count": null,
   "id": "b4c29250-f989-4d03-841e-3ffb3fd053e1",
   "metadata": {
    "tags": []
   },
   "outputs": [],
   "source": [
    "def reset():       # simply set leds off\n",
    "    pixel_colors()\n",
    "    for ii in range(num_pixels):\n",
    "        pixels[ii]=of\n",
    "    pixels.show()\n",
    "    sleep(0.1)"
   ]
  },
  {
   "cell_type": "code",
   "execution_count": null,
   "id": "f862fb35-3cb5-42de-b813-9e94da211d68",
   "metadata": {
    "tags": []
   },
   "outputs": [],
   "source": [
    "def initialize():   # set leds white-off\n",
    "    pixel_colors()\n",
    "    for ii in range(3):         # flash white 3-times\n",
    "        pixels.fill(of)\n",
    "        #print(pixels)\n",
    "        pixels.show()\n",
    "        sleep(0.1)\n",
    "        pixels.fill(wh)\n",
    "        #print(pixels)\n",
    "        pixels.show()\n",
    "        sleep(0.1)\n",
    "    pixels.fill(of)\n",
    "    #print(pixels)\n",
    "    pixels.show()    "
   ]
  },
  {
   "cell_type": "code",
   "execution_count": null,
   "id": "63d49152-8547-4b29-bc94-452aaae95128",
   "metadata": {
    "tags": []
   },
   "outputs": [],
   "source": [
    "def allcolors():    # set leds red-green-blue-yellow-magenta-cyan\n",
    "    pixel_colors()\n",
    "    pixels.fill(of)\n",
    "    #print(pixels)\n",
    "    pixels.show()\n",
    "    sleep(1)\n",
    "    pixels.fill(rd)\n",
    "    #print(pixels)\n",
    "    pixels.show()\n",
    "    sleep(1)\n",
    "    pixels.fill(gr)\n",
    "    #print(pixels)\n",
    "    pixels.show()\n",
    "    sleep(1)\n",
    "    pixels.fill(bl)\n",
    "    #print(pixels)\n",
    "    pixels.show()\n",
    "    sleep(1)\n",
    "    pixels.fill(ye)\n",
    "    #print(pixels)\n",
    "    pixels.show()\n",
    "    sleep(1)\n",
    "    pixels.fill(mg)\n",
    "    #print(pixels)\n",
    "    pixels.show()\n",
    "    sleep(1)\n",
    "    pixels.fill(cy)\n",
    "    #print(pixels)\n",
    "    pixels.show()\n",
    "    sleep(1)\n",
    "    pixels.fill(of)\n",
    "    #print(pixels)\n",
    "    pixels.show()\n",
    "    sleep(1)"
   ]
  },
  {
   "cell_type": "code",
   "execution_count": null,
   "id": "994a0c47-0e36-4bf3-b78e-a59b841042d7",
   "metadata": {
    "tags": []
   },
   "outputs": [],
   "source": [
    "def finish():\n",
    "    pixel_colors()\n",
    "    for ii in range(3):         # flash cyan 3-times\n",
    "        pixels.fill(of)\n",
    "        #print(pixels)\n",
    "        pixels.show()\n",
    "        sleep(0.1)\n",
    "        pixels.fill(cy)\n",
    "        #print(pixels)\n",
    "        pixels.show()\n",
    "        sleep(0.1)    \n",
    "    pixels.fill(of)\n",
    "    #print(pixels)\n",
    "    pixels.show()        "
   ]
  },
  {
   "cell_type": "code",
   "execution_count": null,
   "id": "ac184d35-ab98-4587-9979-93d8154d9693",
   "metadata": {
    "tags": []
   },
   "outputs": [],
   "source": [
    "def travel():\n",
    "    pixel_colors()\n",
    "    for ii in range(3):             # start 3-white flashes in first pixel then turn it green\n",
    "        pixels[0]=(of)\n",
    "        pixels.show()\n",
    "        sleep(0.1)\n",
    "        pixels[0]=(wh)\n",
    "        pixels.show()\n",
    "        sleep(0.1)\n",
    "    pixels[0]=(gr)\n",
    "    pixels.show()\n",
    "    sleep(0.1)\n",
    "\n",
    "    for ii in range(num_pixels):    # running red through entire strip\n",
    "        if ii > 1:                  # turn off previous - turn on current to red\n",
    "            pixels[ii-1]=(of)\n",
    "            pixels[ii]=(rd)\n",
    "        if ii > int(num_pixels/2):  # Turn middle pixel only green \n",
    "            pixels[int(num_pixels/2)]=(gr) \n",
    "        pixels.show()\n",
    "        sleep(0.1)    \n",
    "\n",
    "    for ii in range(3):             # end 3-magenta flashes in last pixel then green\n",
    "        pixels[num_pixels-1]=(of)\n",
    "        pixels.show()\n",
    "        sleep(0.1)        \n",
    "        pixels[num_pixels-1]=(mg)\n",
    "        pixels.show()\n",
    "        sleep(0.1)\n",
    "        \n",
    "    pixels[num_pixels-1]=(gr)\n",
    "    pixels.show()\n",
    "    sleep(1)    \n",
    "    pixels.fill(of)\n",
    "    pixels.show()\n",
    "    sleep(0.1)     "
   ]
  },
  {
   "cell_type": "markdown",
   "id": "4019a987-a2af-4ff0-bb6d-058cbb0142aa",
   "metadata": {
    "tags": []
   },
   "source": [
    "### C. MODIFY THE ```take_image()``` function below\n",
    "1. Add a parameter to receive a timestamp ```stamp```\n",
    "1. Use the ```stamp``` in the ```f-string``` to create the image name\n",
    "1. This is then used in the ```libcamera-still``` method to take the picture!"
   ]
  },
  {
   "cell_type": "code",
   "execution_count": null,
   "id": "ae559293-3aba-4aea-9faa-e28b80ff8422",
   "metadata": {},
   "outputs": [],
   "source": [
    "def take_image(????):\n",
    "    # datetime object containing current date and time\n",
    "    !mkdir -p images\n",
    "    thisimg = f'img_{????}.jpg'\n",
    "    !libcamera-still -n -o images/$thisimg\n",
    "    return f'images/{thisimg}'"
   ]
  },
  {
   "cell_type": "code",
   "execution_count": null,
   "id": "e33ade14-3bc0-46b1-a392-8e48a4f5a76d",
   "metadata": {},
   "outputs": [],
   "source": [
    "def show_image(thisimg):\n",
    "    %matplotlib inline\n",
    "    rimg = cv2.imread(thisimg) \n",
    "    img = cv2.flip(rimg,0)\n",
    "    \n",
    "    f = plt.figure(figsize=(15, 15)) \n",
    "    \n",
    "    f.add_subplot(1, 2, 1) \n",
    "    grayImg = cv2.cvtColor(img, cv2.COLOR_BGR2GRAY)\n",
    "    plt.imshow(grayImg, cmap = 'gray') \n",
    "    plt.title(\"Selfie Booth - gray scale\")\n",
    "    plt.show()\n",
    "\n",
    "    \n",
    "    f.add_subplot(1, 2, 2) \n",
    "    plt.imshow(cv2.cvtColor(img, cv2.COLOR_BGR2RGB)) \n",
    "    plt.title(\"Selfie Booth - color image\")\n",
    "    plt.show()\n",
    "    "
   ]
  },
  {
   "cell_type": "markdown",
   "id": "528dc401-00b0-4de0-aecf-6f5d8039bbeb",
   "metadata": {},
   "source": [
    "### D. Write a Button Action Function ```clicked()```\n",
    "1. I have written it for you. Let's walkthrough it\n",
    "1. Some Modifications are needed\n",
    "#### [Get Button Function Library Documentation Here](https://gpiozero.readthedocs.io/en/stable/recipes.html#button)\n",
    "#### You need to MODIFY the cell below to call the ```take_image()``` and ```show_image()``` functions inside the ```clicked()``` function"
   ]
  },
  {
   "cell_type": "code",
   "execution_count": null,
   "id": "07a516b1-be68-4f64-b69a-30a3e7cd4fb6",
   "metadata": {
    "tags": []
   },
   "outputs": [],
   "source": [
    "def clicked():\n",
    "    now = datetime.now()\n",
    "    tstamp = now.strftime(\"%m%d%H%M%S\")    # prints month-day-hr-min-sec \n",
    "                                           # example: 0403195324 used for file naming\n",
    "    time = now.strftime(\"%b %d %H:%M:%S\")  # prints month-day-hr-min-sec 0403194304\n",
    "                                           # example: Apr 03 19:53:24 used for info\n",
    "    \n",
    "    print(f'button clicked @ {time}')\n",
    "    print(f'time stamp is: {tstamp}')\n",
    "    initialize()\n",
    "    ## ADD CODE HERE FOR TAKING AND SHOWING IMAGE"
   ]
  },
  {
   "cell_type": "markdown",
   "id": "44e879fb-90eb-4cea-a1b8-4a0f078cd041",
   "metadata": {},
   "source": [
    "### E. Setup the Button to a GPIO output in rPI and Breadboard for a Button (GPIO 4)\n",
    "### Add breadboard picture below\n",
    "![breadBoard](breadBoard.jpg)\n",
    "1. Add python code below to setup Button\n",
    "1. Add python code to reference Button Action Function\n",
    "1. NO MODIFICATION FOR CODE NEEDED BELOW - VERIFY WIRING TO GPIO4"
   ]
  },
  {
   "cell_type": "code",
   "execution_count": null,
   "id": "194f17e4-eace-4d3a-a378-634d79233dc4",
   "metadata": {},
   "outputs": [],
   "source": [
    "### setup button below\n",
    "###\n",
    "buttonpin = 4\n",
    "button = Button(buttonpin)\n",
    "\n",
    "### setup reference to Button\n",
    "button.when_pressed=clicked  #note name of function only without parenthesis!"
   ]
  },
  {
   "cell_type": "markdown",
   "id": "d325f0eb-c14d-4c6c-8c78-b09e236b8b5a",
   "metadata": {},
   "source": [
    "### F. Write a Motion Action Function ```moved()```\n",
    "It should be very similar to the clicked function above!\n",
    "#### [Get PIR Function Library Documentation Here](https://gpiozero.readthedocs.io/en/stable/recipes.html#motion-sensor)\n",
    "#### You need to MODIFY this to add the take_image() and show_image() functions\n",
    "1. I started it for you below!\n",
    "1. THIS NEEDS MODIFICATION !!"
   ]
  },
  {
   "cell_type": "code",
   "execution_count": null,
   "id": "ca182d9c-21f4-48d8-925b-ecb6dd4a0679",
   "metadata": {},
   "outputs": [],
   "source": [
    "def moved():\n",
    "    ## CODE NEEDED HERE \n",
    "    ## VERY SIMILAR TO 'clicked' FUNCTION\n",
    "    print('you need to add code here')"
   ]
  },
  {
   "cell_type": "markdown",
   "id": "a7c6133f-7493-44c6-a2e4-bbeb2d1c1bf0",
   "metadata": {},
   "source": [
    "### G. Setup the PIR Sensor to a GPIO output in rPI and Breadboard for a Motion Sensor (GPIO 14)\n",
    "### Add breadboard picture below\n",
    "![breadBoard](breadBoard.jpg)\n",
    "1. Set up the PIR Sensor - [Refer to the images on the website by clicking here](https://thebushschool.github.io/fcsr/projects/python_deep_dive/)\n",
    "1. Add python code below to setup Motion Sensor\n",
    "1. Add python code to reference Motion Sensor Action Function\n",
    "1. I started it for you!\n",
    "1. THIS NEEDS MODIFICATION !!!"
   ]
  },
  {
   "cell_type": "code",
   "execution_count": null,
   "id": "0598f6fc-a5ff-4cb4-a62d-9b40ddbf5377",
   "metadata": {
    "tags": []
   },
   "outputs": [],
   "source": [
    "### setup Motion Sensor below\n",
    "###\n",
    "pirpin = ??  ## TRY PIN 14\n",
    "pir = MotionSensor(pirpin)\n",
    "\n",
    "### setup reference to Motion Sensor\n",
    "pir.when_motion=?????   #note name of function only without parenthesis!"
   ]
  },
  {
   "cell_type": "markdown",
   "id": "b3a2b2e6-2a6e-46a2-b3c6-8b07d0c77612",
   "metadata": {},
   "source": [
    "### H. Setup the PIXEL BOARD on GPIO 18\n",
    "1. It should already be setup\n",
    "1. NO MODIFICATIONS NEEDED HERE\n",
    "1. JUST VERIFY THE WIRING TO THE APPROPRIATE PORTS"
   ]
  },
  {
   "cell_type": "code",
   "execution_count": null,
   "id": "ef37f590-d27f-4955-a23d-834298b8eb30",
   "metadata": {},
   "outputs": [],
   "source": [
    "### setup neopixel board below\n",
    "###\n",
    "pixel_pin = board.D18  # GPIO 18\n",
    "\n",
    "num_pixels = 100   # 100 neopixels in string\n",
    "\n",
    "ORDER = neopixel.RGB  # Order of neopixel color Red-Green-Blue\n",
    "\n",
    "pixels = neopixel.NeoPixel(pixel_pin, num_pixels, \n",
    "                           brightness=0.1, auto_write=False,\n",
    "                           pixel_order=ORDER)"
   ]
  },
  {
   "cell_type": "markdown",
   "id": "1e4a0bd8-c163-4184-9045-d9c95ebc1f41",
   "metadata": {},
   "source": [
    "### I. MAIN BLOCK\n",
    "1. Note: The ```While``` Loop has been eliminated\n",
    "1. We are simply using the Python ```pause()``` method to give us the very same capability\n",
    "1. The ```pause()``` function will mak the processing stop and wait for a Button input or some movement in front of the Motion Sensor\n",
    "1. Then you should see the events your programmed take place for each type of Event!\n",
    "1. NO CHANGES ARE NEEDED BELOW.  DOES IT WORK?\n",
    "1. ***LET US TAKE A CLASS PICTURE TODAY WITH ALL OF US IN IT!!***"
   ]
  },
  {
   "cell_type": "code",
   "execution_count": null,
   "id": "25bab27e-1ab1-40ca-bfa2-2d256f905c51",
   "metadata": {
    "tags": []
   },
   "outputs": [],
   "source": [
    "pixel_colors()\n",
    "reset()\n",
    "pause()"
   ]
  },
  {
   "cell_type": "code",
   "execution_count": null,
   "id": "f7e0b999-4c61-46ab-b47e-d36d02599287",
   "metadata": {},
   "outputs": [],
   "source": []
  }
 ],
 "metadata": {
  "kernelspec": {
   "display_name": "Python 3 (ipykernel)",
   "language": "python",
   "name": "python3"
  },
  "language_info": {
   "codemirror_mode": {
    "name": "ipython",
    "version": 3
   },
   "file_extension": ".py",
   "mimetype": "text/x-python",
   "name": "python",
   "nbconvert_exporter": "python",
   "pygments_lexer": "ipython3",
   "version": "3.11.2"
  }
 },
 "nbformat": 4,
 "nbformat_minor": 5
}
