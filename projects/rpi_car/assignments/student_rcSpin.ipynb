{
  "cells": [
    {
      "cell_type": "markdown",
      "source": [
        "## Activate Robot Car Turn"
      ],
      "metadata": {},
      "id": "03a4ded7-e0c8-49c0-a5eb-f9462cb587ba"
    },
    {
      "cell_type": "markdown",
      "source": [
        "#### Import Libraries and log info"
      ],
      "metadata": {},
      "id": "3ad520a7-a5e3-458d-b2e3-aac93cb9637d"
    },
    {
      "cell_type": "code",
      "source": [
        "#### IMPORT LIBRARIES Code Block\n",
        "import os\n",
        "import sys\n",
        "sys.path.append('/home/pi/work/notebooks/')\n",
        "import FCSRSDK.yaml_handle as yaml_handle\n",
        "import FCSRSDK.Camera as Camera\n",
        "import FCSRSDK.FCSRSonar as Sonar\n",
        "import FCSRSDK.FCSRBoard as Board\n",
        "import FCSRSDK.FCSRMecanumChassis as mecanum\n",
        "import board\n",
        "import neopixel\n",
        "import matplotlib.pyplot as plt\n",
        "import cv2\n",
        "import random,math,time\n",
        "from time import sleep\n",
        "from datetime import datetime\n",
        "from sys import exit\n",
        "import subprocess\n",
        "from gpiozero import LED, Buzzer, Button, MotionSensor\n",
        "import signal\n",
        "from signal import pause\n",
        "import time\n",
        "from smbus2 import SMBus, i2c_msg\n",
        "print('''\n",
        "**********************************************************\n",
        "******** BUSH FCSR Robot Car Hardware Test **********\n",
        "**********************************************************\n",
        "----------------------------------------------------------\n",
        "FCSR website:https://thebushschool.github.io/fcsr\n",
        "----------------------------------------------------------\n",
        "Tips:\n",
        " * Press ctrl-c to exit\n",
        "----------------------------------------------------------\n",
        "''')"
      ],
      "outputs": [
        {
          "output_type": "stream",
          "name": "stdout",
          "text": [
            "\n",
            "**********************************************************\n",
            "******** BUSH FCSR Robot Car Hardware Test **********\n",
            "**********************************************************\n",
            "----------------------------------------------------------\n",
            "FCSR website:https://thebushschool.github.io/fcsr\n",
            "----------------------------------------------------------\n",
            "Tips:\n",
            " * Press ctrl-c to exit\n",
            "----------------------------------------------------------\n",
            "\n"
          ]
        }
      ],
      "execution_count": 1,
      "metadata": {
        "tags": []
      },
      "id": "bef66290-3e92-4ec7-896e-592cf548690c"
    },
    {
      "cell_type": "markdown",
      "source": [
        "#### Functions Block"
      ],
      "metadata": {},
      "id": "a8cab390-6f8d-435a-9a5e-89f7392699c5"
    },
    {
      "cell_type": "code",
      "source": [
        "# Stop when ctrl-c or stop button is pressed\n",
        "__isRunning = True\n",
        "\n",
        "def stop_running(signum, frame):\n",
        "    global __isRunning\n",
        "    \n",
        "    print('Stopping...')\n",
        "    __isRunning = False\n",
        "    chassis.set_velocity(0,0,0)  # reset\n",
        "    time.sleep(1)\n",
        "    print('Stopped!')"
      ],
      "outputs": [],
      "execution_count": 2,
      "metadata": {
        "tags": []
      },
      "id": "a9c109e1-1f43-4bb0-88a9-c9c0c0353b32"
    },
    {
      "cell_type": "markdown",
      "source": [
        "#### MAIN Block"
      ],
      "metadata": {},
      "id": "c55da45a-f0e2-44d4-a75c-cf79ebb8d505"
    },
    {
      "cell_type": "code",
      "source": [
        "chassis = mecanum.MecanumChassis()\n",
        "\n",
        "if __name__ == '__main__':\n",
        "    while __isRunning:\n",
        "        signal.signal(signal.SIGINT, stop_running)\n",
        "        chassis.set_velocity(0,90,0.3) # rpm,angle,angular rate\n",
        "        time.sleep(3)\n",
        "        chassis.set_velocity(0,90,-0.3) # rpm,angle,angular rate\n",
        "        time.sleep(3)\n",
        "        chassis.set_velocity(0,0,0)  # reset        "
      ],
      "outputs": [],
      "execution_count": null,
      "metadata": {
        "tags": []
      },
      "id": "7d6bdd54-1cd0-4df8-8b1a-283797229787"
    }
  ],
  "metadata": {
    "kernelspec": {
      "display_name": "Python 3 (ipykernel)",
      "language": "python",
      "name": "python3"
    },
    "language_info": {
      "codemirror_mode": {
        "name": "ipython",
        "version": 3
      },
      "file_extension": ".py",
      "mimetype": "text/x-python",
      "name": "python",
      "nbconvert_exporter": "python",
      "pygments_lexer": "ipython3",
      "version": "3.9.2"
    },
    "nteract": {
      "version": "0.28.0"
    }
  },
  "nbformat": 4,
  "nbformat_minor": 5
}