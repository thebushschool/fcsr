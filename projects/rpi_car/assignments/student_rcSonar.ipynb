{
 "cells": [
  {
   "cell_type": "markdown",
   "id": "2a81b437-9be1-4e22-9479-290ee2c397e8",
   "metadata": {},
   "source": [
    "## Assignment: Ultrasonic Sensors Sonar\n",
    "### Use other SnooPi notebooks as references for making the changes\n",
    "1. You are now accessing this notebook on Google Cloud (not SnooPi)\n",
    "1. Rename this notebook by replacing \"student\" with your name\n",
    "1. Then Download this notebook to your laptop & drag to SnooPi's Jupyter Lab\n",
    "1. First test to verify this notebook on SnooPi before modifications\n",
    "1. Print \"Possible obstacle encountered at distance at actual value cm\"\n",
    "1. Test your code again - does it work?"
   ]
  },
  {
   "cell_type": "markdown",
   "id": "ba7aa064-f8b7-4bba-9b58-b0591f694b1c",
   "metadata": {},
   "source": [
    "#### Import Libraries and log info"
   ]
  },
  {
   "cell_type": "code",
   "execution_count": 1,
   "id": "bc7f8edc-810c-4603-af0d-1be67838df64",
   "metadata": {
    "tags": []
   },
   "outputs": [
    {
     "name": "stdout",
     "output_type": "stream",
     "text": [
      "\n",
      "**********************************************************\n",
      "******** BUSH FCSR Robot Car Hardware Test **********\n",
      "**********************************************************\n",
      "----------------------------------------------------------\n",
      "FCSR website:https://thebushschool.github.io/fcsr\n",
      "----------------------------------------------------------\n",
      "Tips:\n",
      " * Press ctrl-c to exit\n",
      "----------------------------------------------------------\n",
      "\n"
     ]
    }
   ],
   "source": [
    "#### IMPORT LIBRARIES Code Block\n",
    "import os\n",
    "import sys\n",
    "sys.path.append('/home/pi/work/notebooks/')\n",
    "import FCSRSDK.yaml_handle as yaml_handle\n",
    "import FCSRSDK.Camera as Camera\n",
    "import FCSRSDK.FCSRSonar as Sonar\n",
    "import FCSRSDK.FCSRBoard as Board\n",
    "import FCSRSDK.FCSRMecanumChassis as mecanum\n",
    "import board\n",
    "import neopixel\n",
    "import matplotlib.pyplot as plt\n",
    "import cv2\n",
    "import random,math,time\n",
    "from time import sleep\n",
    "from datetime import datetime\n",
    "from sys import exit\n",
    "import subprocess\n",
    "from gpiozero import LED, Buzzer, Button, MotionSensor\n",
    "import signal\n",
    "from signal import pause\n",
    "import time\n",
    "from smbus2 import SMBus, i2c_msg\n",
    "print('''\n",
    "**********************************************************\n",
    "******** BUSH FCSR Robot Car Hardware Test **********\n",
    "**********************************************************\n",
    "----------------------------------------------------------\n",
    "FCSR website:https://thebushschool.github.io/fcsr\n",
    "----------------------------------------------------------\n",
    "Tips:\n",
    " * Press ctrl-c to exit\n",
    "----------------------------------------------------------\n",
    "''')"
   ]
  },
  {
   "cell_type": "markdown",
   "id": "3d329df2-be83-46ea-94dc-0076eab7795c",
   "metadata": {},
   "source": [
    "#### Functions Block"
   ]
  },
  {
   "cell_type": "code",
   "execution_count": 2,
   "id": "27780678-16ea-43e5-98b8-4105e7b64fa5",
   "metadata": {
    "tags": []
   },
   "outputs": [],
   "source": [
    "# Stop when ctrl-c or stop button is pressed\n",
    "__isRunning = True\n",
    "\n",
    "def stop_running(signum, frame):\n",
    "    global __isRunning\n",
    "    \n",
    "    print('Stopping...')\n",
    "    __isRunning = False\n",
    "    s.stopSymphony() # reset\n",
    "    time.sleep(1)\n",
    "    print('Stopped!')"
   ]
  },
  {
   "cell_type": "markdown",
   "id": "6becde69-1904-4ff3-82a4-3d6a00cbd77d",
   "metadata": {},
   "source": [
    "#### MAIN Block"
   ]
  },
  {
   "cell_type": "code",
   "execution_count": 3,
   "id": "f6e121ea-38ca-4bcf-bc52-9ea844e68848",
   "metadata": {
    "nteract": {
     "transient": {
      "deleting": false
     }
    }
   },
   "outputs": [
    {
     "name": "stdout",
     "output_type": "stream",
     "text": [
      "Running local Sonar in Jupyter! Press Stop Button to Terminate\n"
     ]
    }
   ],
   "source": [
    "#\n",
    "# MAIN Block\n",
    "# Activate Sonar\n",
    "#\n",
    "print('Running local Sonar in Jupyter! Press Stop Button to Terminate')\n"
   ]
  },
  {
   "cell_type": "code",
   "execution_count": 4,
   "id": "a2ccf2ae-58ec-4bd6-a50d-0b56a873dca8",
   "metadata": {},
   "outputs": [
    {
     "name": "stdout",
     "output_type": "stream",
     "text": [
      "99999\n",
      "99999\n",
      "99999\n",
      "99999\n",
      "99999\n",
      "85\n",
      "72\n",
      "72\n",
      "99999\n",
      "99999\n",
      "99999\n",
      "99999\n",
      "99999\n",
      "106\n",
      "105\n",
      "105\n",
      "106\n",
      "99999\n",
      "99999\n",
      "99999\n",
      "99999\n",
      "99999\n",
      "99999\n",
      "99999\n",
      "99999\n",
      "99999\n",
      "99999\n",
      "99999\n",
      "Stopping...\n",
      "Stopped!\n",
      "99999\n"
     ]
    }
   ],
   "source": [
    "s = Sonar.Sonar()\n",
    "s.startSymphony()\n",
    "if __name__ == '__main__':\n",
    "    while __isRunning:\n",
    "        signal.signal(signal.SIGINT, stop_running)\n",
    "        time.sleep(1)\n",
    "        print(s.getDistance()) "
   ]
  },
  {
   "cell_type": "code",
   "execution_count": null,
   "id": "64664318-e527-4b12-8228-13626c917052",
   "metadata": {},
   "outputs": [],
   "source": []
  }
 ],
 "metadata": {
  "kernelspec": {
   "display_name": "Python 3 (ipykernel)",
   "language": "python",
   "name": "python3"
  },
  "language_info": {
   "codemirror_mode": {
    "name": "ipython",
    "version": 3
   },
   "file_extension": ".py",
   "mimetype": "text/x-python",
   "name": "python",
   "nbconvert_exporter": "python",
   "pygments_lexer": "ipython3",
   "version": "3.9.2"
  },
  "nteract": {
   "version": "0.28.0"
  }
 },
 "nbformat": 4,
 "nbformat_minor": 5
}
