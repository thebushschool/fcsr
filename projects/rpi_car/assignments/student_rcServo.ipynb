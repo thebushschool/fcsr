{
  "cells": [
    {
      "cell_type": "markdown",
      "source": [
        "## Activate Robot Car Servos"
      ],
      "metadata": {},
      "id": "2cf3ee97-a442-4445-af43-301896fb7236"
    },
    {
      "cell_type": "markdown",
      "source": [
        "#### Import Libraries and log info"
      ],
      "metadata": {},
      "id": "2c5d4104-0cac-4847-b24e-604bfde36074"
    },
    {
      "cell_type": "code",
      "source": [
        "#### IMPORT LIBRARIES Code Block\n",
        "import os\n",
        "import sys\n",
        "sys.path.append('/home/pi/work/notebooks/')\n",
        "import FCSRSDK.yaml_handle as yaml_handle\n",
        "import FCSRSDK.Camera as Camera\n",
        "import FCSRSDK.FCSRSonar as Sonar\n",
        "import FCSRSDK.FCSRBoard as Board\n",
        "import FCSRSDK.FCSRMecanumChassis as mecanum\n",
        "import board\n",
        "import neopixel\n",
        "import matplotlib.pyplot as plt\n",
        "import cv2\n",
        "import random,math,time\n",
        "from time import sleep\n",
        "from datetime import datetime\n",
        "from sys import exit\n",
        "import subprocess\n",
        "from gpiozero import LED, Buzzer, Button, MotionSensor\n",
        "import signal\n",
        "from signal import pause\n",
        "import time\n",
        "from smbus2 import SMBus, i2c_msg\n",
        "print('''\n",
        "**********************************************************\n",
        "******** BUSH FCSR Robot Car Hardware Test **********\n",
        "**********************************************************\n",
        "----------------------------------------------------------\n",
        "FCSR website:https://thebushschool.github.io/fcsr\n",
        "----------------------------------------------------------\n",
        "Tips:\n",
        " * Press ctrl-c to exit\n",
        "----------------------------------------------------------\n",
        "''')"
      ],
      "outputs": [
        {
          "output_type": "stream",
          "name": "stdout",
          "text": [
            "\n",
            "**********************************************************\n",
            "******** BUSH FCSR Robot Car Hardware Test **********\n",
            "**********************************************************\n",
            "----------------------------------------------------------\n",
            "FCSR website:https://thebushschool.github.io/fcsr\n",
            "----------------------------------------------------------\n",
            "Tips:\n",
            " * Press ctrl-c to exit\n",
            "----------------------------------------------------------\n",
            "\n"
          ]
        }
      ],
      "execution_count": 1,
      "metadata": {
        "tags": []
      },
      "id": "0a4dec22-a646-45b4-a3bd-f01a7fead04c"
    },
    {
      "cell_type": "markdown",
      "source": [
        "#### Functions Block"
      ],
      "metadata": {},
      "id": "e76797bb-e949-4564-aeab-6af8470f779a"
    },
    {
      "cell_type": "code",
      "source": [
        "# Stop when ctrl-c or stop button is pressed\n",
        "__isRunning = True\n",
        "\n",
        "def stop_running(signum, frame):\n",
        "    global __isRunning\n",
        "    \n",
        "    print('Stopping...')\n",
        "    __isRunning = False\n",
        "    Board.setPWMServoPulse(1, 1500, 1000) # go back to initial when stopped\n",
        "    Board.setPWMServoPulse(2, 1500, 1000) # go back to initial when stopped\n",
        "    time.sleep(1)\n",
        "    print('Stopped!')\n",
        "    "
      ],
      "outputs": [],
      "execution_count": 2,
      "metadata": {
        "tags": []
      },
      "id": "94693c8c-a085-4d9b-a604-421925e47558"
    },
    {
      "cell_type": "markdown",
      "source": [
        "#### MAIN Block"
      ],
      "metadata": {},
      "id": "447d6766-f665-472b-8e19-92dfd2a1729d"
    },
    {
      "cell_type": "code",
      "source": [
        "#\n",
        "# MAIN Block\n",
        "# Operate Both Servos\n",
        "#\n",
        "\n",
        "chassis = mecanum.MecanumChassis()\n",
        "\n",
        "if __name__ == '__main__':\n",
        "    while __isRunning:\n",
        "        signal.signal(signal.SIGINT, stop_running)\n",
        "        \n",
        "        Board.setPWMServoPulse(1, 1500, 1000) # Channel 1 loc 1500 for 1000 ms\n",
        "        time.sleep(1)\n",
        "        Board.setPWMServoPulse(1, 2000, 1000) # # Channel 1 loc 1500 for 1000 ms\n",
        "        time.sleep(1)\n",
        "        Board.setPWMServoPulse(2, 1200, 300) # Channel 2 loc 1200 for 300 ms\n",
        "        time.sleep(1)\n",
        "        Board.setPWMServoPulse(2, 1800, 300) # Channel 2 loc 1800 for 300 ms\n",
        "        time.sleep(1)"
      ],
      "outputs": [
        {
          "output_type": "stream",
          "name": "stdout",
          "text": [
            "Stopping...\n",
            "Stopped!\n"
          ]
        }
      ],
      "execution_count": 3,
      "metadata": {
        "tags": []
      },
      "id": "daf3f90b-5da6-4211-9438-83b34e77d34d"
    },
    {
      "cell_type": "code",
      "source": [],
      "outputs": [],
      "execution_count": null,
      "metadata": {},
      "id": "b409aaa1-bb89-4c76-8289-f9701a16f659"
    },
    {
      "cell_type": "code",
      "source": [],
      "outputs": [],
      "execution_count": null,
      "metadata": {},
      "id": "e47ffe5c-b033-46dc-9f84-a3d66fd7a0b1"
    }
  ],
  "metadata": {
    "kernelspec": {
      "display_name": "Python 3 (ipykernel)",
      "language": "python",
      "name": "python3"
    },
    "language_info": {
      "codemirror_mode": {
        "name": "ipython",
        "version": 3
      },
      "file_extension": ".py",
      "mimetype": "text/x-python",
      "name": "python",
      "nbconvert_exporter": "python",
      "pygments_lexer": "ipython3",
      "version": "3.9.2"
    },
    "nteract": {
      "version": "0.28.0"
    }
  },
  "nbformat": 4,
  "nbformat_minor": 5
}