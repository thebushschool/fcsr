{
  "cells": [
    {
      "cell_type": "markdown",
      "source": [
        "## Assignment: SnooPi Buzzer & LEDs\n",
        "### Use other SnooPi notebooks as references for making the changes\n",
        "1. You are now accessing this notebook on Google Cloud (not SnooPi)\n",
        "1. Rename this notebook by replacing \"student\" with your name\n",
        "1. Then Download this notebook to your laptop & drag to SnooPi's Jupyter Lab\n",
        "1. First test to verify this notebook on SnooPi before modifications\n",
        "1. Add code at the very end to make buzzer emit beep-beep in two short bursts\n",
        "1. Test your code again - does it work?"
      ],
      "metadata": {},
      "id": "27223523-b6e9-43a0-9763-c3e17b3d7ade"
    },
    {
      "cell_type": "code",
      "source": [
        "#### IMPORT LIBRARIES Code Block\n",
        "import os\n",
        "import sys\n",
        "sys.path.append('/home/pi/work/notebooks/')\n",
        "import FCSRSDK.yaml_handle as yaml_handle\n",
        "import FCSRSDK.Camera as Camera\n",
        "import FCSRSDK.FCSRSonar as Sonar\n",
        "import FCSRSDK.FCSRBoard as Board\n",
        "import FCSRSDK.FCSRMecanumChassis as mecanum\n",
        "import board\n",
        "import neopixel\n",
        "import matplotlib.pyplot as plt\n",
        "import cv2\n",
        "import random,math,time\n",
        "from time import sleep\n",
        "from datetime import datetime\n",
        "from sys import exit\n",
        "import subprocess\n",
        "from gpiozero import LED, Buzzer, Button, MotionSensor\n",
        "import signal\n",
        "from signal import pause\n",
        "import time\n",
        "from smbus2 import SMBus, i2c_msg\n",
        "print('''\n",
        "**********************************************************\n",
        "******** BUSH FCSR Robot Car Hardware Test **********\n",
        "**********************************************************\n",
        "----------------------------------------------------------\n",
        "FCSR website:https://thebushschool.github.io/fcsr\n",
        "----------------------------------------------------------\n",
        "Tips:\n",
        " * Press ctrl-c to exit\n",
        "----------------------------------------------------------\n",
        "''')"
      ],
      "outputs": [
        {
          "output_type": "stream",
          "name": "stdout",
          "text": [
            "\n",
            "**********************************************************\n",
            "******** BUSH FCSR Robot Car Hardware Test **********\n",
            "**********************************************************\n",
            "----------------------------------------------------------\n",
            "FCSR website:https://thebushschool.github.io/fcsr\n",
            "----------------------------------------------------------\n",
            "Tips:\n",
            " * Press ctrl-c to exit\n",
            "----------------------------------------------------------\n",
            "\n"
          ]
        }
      ],
      "execution_count": 1,
      "metadata": {
        "tags": []
      },
      "id": "f9471879-8abd-493a-a4c1-b0aa002fb39b"
    },
    {
      "cell_type": "markdown",
      "source": [
        "#### Functions Block"
      ],
      "metadata": {},
      "id": "26fd3043-ab2f-461b-9bc7-8943ecdb954f"
    },
    {
      "cell_type": "code",
      "source": [
        "def take_image(imgdir):\n",
        "    global camera\n",
        "    # datetime object containing current date and time\n",
        "    \n",
        "    now = datetime.now()\n",
        "    #thisdate = today.strftime(\"%b-%d-%Y-%hr-%M\")\n",
        "    thisdate = now.strftime(\"%d%m%Y%H%M%S\")\n",
        "    thisimg = f'testimg_{thisdate}.jpg'\n",
        "    imgpath = f'{imgdir}/{thisimg}'\n",
        "    cap = cv2.VideoCapture(0)\n",
        "    #cap.set(3,1280) #width=1280\n",
        "    #cap.set(4,960) #height=960\n",
        "    if cap.isOpened():\n",
        "        _,frame = cap.read()\n",
        "        cap.release() #releasing camera immediately after capturing picture\n",
        "        if _ and frame is not None:\n",
        "            cv2.imwrite(imgpath, frame)\n",
        "    return imgpath\n",
        "\n",
        "def show_image(thisimg):\n",
        "    %matplotlib inline\n",
        "    img = cv2.imread(thisimg) \n",
        "    \n",
        "    f = plt.figure(figsize=(30, 30)) \n",
        "    \n",
        "    f.add_subplot(2, 1, 1) \n",
        "    plt.title(\"Still Image - gray\")\n",
        "    grayImg = cv2.cvtColor(img, cv2.COLOR_BGR2GRAY)\n",
        "    plt.imshow(grayImg, cmap = 'gray') \n",
        "    plt.show()\n",
        "\n",
        "    f = plt.figure(figsize=(30, 30))\n",
        "    \n",
        "    f.add_subplot(2, 1, 2) \n",
        "    plt.title(\"Still Image - original color image\")\n",
        "    plt.imshow(cv2.cvtColor(img, cv2.COLOR_BGR2RGB)) \n",
        "    plt.show()                \n",
        "\n",
        "# Stop when ctrl-c or stop button is pressed\n",
        "__isRunning = True\n",
        "\n",
        "def stop_running(signum, frame):\n",
        "    global __isRunning\n",
        "    global chassis\n",
        "    print('Stopping...')\n",
        "    __isRunning = False\n",
        "    chassis.set_velocity(0,90,0)  # reset\n",
        "    print('Stopped!')\n",
        "\n",
        "# Stop when ctrl-c or stop button is pressed\n",
        "__isRunning = True\n",
        "\n",
        "def stop_running(signum, frame):\n",
        "    global __isRunning\n",
        "    \n",
        "    print('Stopping...')\n",
        "    __isRunning = False\n",
        "    chassis.set_velocity(0,0,0)  # reset\n",
        "    time.sleep(1)\n",
        "    print('Stopped!')"
      ],
      "outputs": [],
      "execution_count": 2,
      "metadata": {
        "tags": []
      },
      "id": "4213c0a8-9f98-4513-9c4a-7b0509175b57"
    },
    {
      "cell_type": "markdown",
      "source": [
        "#### MAIN Blocks"
      ],
      "metadata": {},
      "id": "4415b10b-4a5e-4a00-afcd-f0141636d511"
    },
    {
      "cell_type": "code",
      "source": [
        "## Buzzer Test\n",
        "print('''\n",
        "----------------------------------------------------------\n",
        "Starting Buzzer Test...\n",
        "Tips:\n",
        " * Press ctrl-c or stop button to exit\n",
        "----------------------------------------------------------\n",
        "''')\n",
        "Board.setBuzzer(Board.buzzer,1) # Buzzer on for 0.3 sec\n",
        "sleep(0.3)\n",
        "Board.setBuzzer(Board.buzzer,0) # Buzzer off"
      ],
      "outputs": [
        {
          "output_type": "stream",
          "name": "stdout",
          "text": [
            "\n",
            "----------------------------------------------------------\n",
            "Starting Buzzer Test...\n",
            "Tips:\n",
            " * Press ctrl-c or stop button to exit\n",
            "----------------------------------------------------------\n",
            "\n"
          ]
        }
      ],
      "execution_count": 3,
      "metadata": {},
      "id": "c2f39908-12ce-4a00-ad79-6310ab4d43c4"
    },
    {
      "cell_type": "code",
      "source": [
        "## LED Test\n",
        "print('''\n",
        "----------------------------------------------------------\n",
        "Starting LED Test...\n",
        "Tips:\n",
        " * Press ctrl-c or stop button to exit\n",
        "----------------------------------------------------------\n",
        "''')\n",
        "Board.reset() # turn off LEDs\n",
        "Board.initialize()# display initial LED patterns\n",
        "Board.finish()# display final LED patterns"
      ],
      "outputs": [
        {
          "output_type": "stream",
          "name": "stdout",
          "text": [
            "\n",
            "----------------------------------------------------------\n",
            "Starting LED Test...\n",
            "Tips:\n",
            " * Press ctrl-c or stop button to exit\n",
            "----------------------------------------------------------\n",
            "\n"
          ]
        }
      ],
      "execution_count": 4,
      "metadata": {
        "tags": []
      },
      "id": "de0c0037-8ff7-440a-abdc-df434ba4afae"
    }
  ],
  "metadata": {
    "kernelspec": {
      "display_name": "Python 3 (ipykernel)",
      "language": "python",
      "name": "python3"
    },
    "language_info": {
      "codemirror_mode": {
        "name": "ipython",
        "version": 3
      },
      "file_extension": ".py",
      "mimetype": "text/x-python",
      "name": "python",
      "nbconvert_exporter": "python",
      "pygments_lexer": "ipython3",
      "version": "3.9.13"
    },
    "nteract": {
      "version": "0.28.0"
    }
  },
  "nbformat": 4,
  "nbformat_minor": 5
}