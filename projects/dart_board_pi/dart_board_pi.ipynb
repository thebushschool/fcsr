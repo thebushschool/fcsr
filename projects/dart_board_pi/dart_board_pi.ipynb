{
 "cells": [
  {
   "cell_type": "markdown",
   "metadata": {},
   "source": [
    "# Computable Dart Board - PI-Day!"
   ]
  },
  {
   "cell_type": "markdown",
   "metadata": {
    "id": "HgvUlRQ7m9qo"
   },
   "source": [
    "### We will use Physical Dart Board to compute PI class period!"
   ]
  },
  {
   "cell_type": "markdown",
   "metadata": {
    "id": "0lzRIV0zgF_t"
   },
   "source": [
    "## Play Darts to calculate PI !! - Simply throw 12 Darts each\n",
    "1. Each member plays all 12 darts\n",
    "1. Team captains write in your notebook how many darts each member you got into the inside the circle, outside circle but inside square, outside square\n",
    "\n",
    "Captains notebook should have a table that look like the one below. Note, each row adds to 12"
   ]
  },
  {
   "cell_type": "markdown",
   "metadata": {},
   "source": [
    "Name|Inside Circle|Outside Circle - Inside Square|Outside Square\n",
    ":---:|:---:|:---:|:---:|\n",
    "member1|6|4|2\n",
    "member2|9|3|0\n",
    "member3|9|2|1\n",
    "member3|8|3|1\n",
    "totals for team1|32|12|4"
   ]
  },
  {
   "cell_type": "markdown",
   "metadata": {},
   "source": [
    "<img src=\"https://thebushschool.github.io/fcsr/geometry/pi1.png\" align=\"left\" width=400 />\n",
    "Here we have a circular dart board with radius R inscribed in a square. If you threw <span style=\"color:red\"</span>A LOT OF DARTS</span> then Area = number of darts!\n",
    "\n",
    "$$Circle\\_Area={\\pi}\\times{R}^2$$\n",
    "\n",
    "$$Square\\_Area=(2\\times{R})^2$$\n",
    "\n",
    "$$\\frac{Square\\_Area}{Circle\\_Area}=\\frac{4\\times{R}^2}{\\pi\\times{R}^2}=\\frac{4}{\\pi}$$\n",
    "\n",
    "$$\\frac{Darts\\_in\\_Square}{Darts\\_in\\_Circle}=\\frac{4}{\\pi}$$\n",
    "\n",
    "<span style=\"color:blue\">Rearrange this to find PI using your calculator and write it in your notebook!</span>  Which team came the closest to the corect value ??\n",
    "\n",
    "$${\\pi}={4} \\times {\\frac{Darts\\_in\\_Circle}{Darts\\_in\\_Square}}$$"
   ]
  },
  {
   "cell_type": "code",
   "execution_count": null,
   "metadata": {},
   "outputs": [],
   "source": [
    "import math\n",
    "# total_darts = [#incircle, #outcircle-insquare, outsquare]\n",
    "total_darts = [32, 12, 4] #REPLACE THIS WITH YOUR OWN TEAM DATA!\n",
    "computed_pi = ??  #code to compute PI\n",
    "actual_pi = math.PI\n",
    "percent_error = ?? #code to compute % error"
   ]
  },
  {
   "cell_type": "markdown",
   "metadata": {
    "id": "0lzRIV0zgF_t"
   },
   "source": [
    "## Team Exercise 2: Let the computer play Darts to calculate PI throw 1000s Darts !!\n",
    "1. We will walk through each code cell below!"
   ]
  },
  {
   "cell_type": "code",
   "execution_count": null,
   "metadata": {},
   "outputs": [],
   "source": [
    "#function to setup the plot and dartboard\n",
    "import numpy as np\n",
    "import matplotlib.pyplot as plt\n",
    "\n",
    "def plot_dartboard(fig, axs):\n",
    "    theta = np.linspace(0, 2*np.pi, 150)\n",
    "    radius = 1\n",
    "    a = radius * np.cos(theta)\n",
    "    b = radius * np.sin(theta)\n",
    "    axs.plot(a,b)"
   ]
  },
  {
   "cell_type": "code",
   "execution_count": null,
   "metadata": {
    "colab": {
     "base_uri": "https://localhost:8080/",
     "height": 315
    },
    "executionInfo": {
     "elapsed": 2960,
     "status": "ok",
     "timestamp": 1580661933419,
     "user": {
      "displayName": "Chandru Narayan",
      "photoUrl": "",
      "userId": "02717025086480664074"
     },
     "user_tz": 480
    },
    "id": "CNyOh1Jlf-2T",
    "outputId": "bb8796f3-25bb-440a-9190-6e9fa27216ed"
   },
   "outputs": [],
   "source": [
    "#Derive PI from a circle inscribed in a square\n",
    "import random,math,time\n",
    "import matplotlib.pyplot as plt\n",
    "import click\n",
    "\n",
    "d = click.prompt(\"No of Darts to throw\", type=int, default=48)\n",
    "\n",
    "# setup plot\n",
    "start_time = time.time()\n",
    "fig, axs = plt.subplots(1)\n",
    "plt.margins(0.005, tight=True)\n",
    "axs.set_aspect(1)\n",
    "\n",
    "# plot the dartboard itself\n",
    "plot_dartboard(fig, axs)\n",
    "\n",
    "totalThrows=d   # how many times we throw the dart\n",
    "throwsInsideCircle = 0 # starting value for a counter\n",
    "throwsOutsideCircle = 0\n",
    "for throw in range(totalThrows): # loop\n",
    "  x = random.random()*2 -1 # a random x value between [-1,1]\n",
    "  y = random.random()*2 -1 # a random y value between [-1,1]\n",
    "\n",
    "  if(x*x + y*y <= 1.0): # if inside the circle (distance squared)\n",
    "    throwsInsideCircle += 1 \n",
    "    plt.scatter(x, y, color='darkgreen')\n",
    "  else:\n",
    "    throwsOutsideCircle += 1\n",
    "    plt.scatter(x, y, color='red')\n",
    "    \n",
    "# all done, compute pi\n",
    "pi = (4.0*throwsInsideCircle)/totalThrows\n",
    "#print(pi) \n",
    "#print(\"--- %s seconds ---\" % (time.time() - start_time))\n",
    "\n",
    "plt.title('throws = ' + str(totalThrows) + '  calculated pi = ' + str(pi))\n",
    "plt.show()\n",
    "end_time = time.time()\n",
    "elapsed_time = end_time-start_time\n",
    "print(f'   --- threw {totalThrows} darts in {elapsed_time:.2f} seconds ---')"
   ]
  },
  {
   "cell_type": "markdown",
   "metadata": {},
   "source": [
    "<img src=\"https://thebushschool.github.io/fcsr/geometry/pi2.png\" alt=\"\" width=\"400\">"
   ]
  },
  {
   "cell_type": "markdown",
   "metadata": {},
   "source": [
    "![alt text](https://thebushschool.github.io/fcsr/geometry/arctan1.png)\n",
    "![alt text](https://thebushschool.github.io/fcsr/geometry/arctan2.png)"
   ]
  },
  {
   "cell_type": "code",
   "execution_count": null,
   "metadata": {
    "colab": {
     "base_uri": "https://localhost:8080/",
     "height": 286
    },
    "executionInfo": {
     "elapsed": 1318,
     "status": "ok",
     "timestamp": 1580662176499,
     "user": {
      "displayName": "Chandru Narayan",
      "photoUrl": "",
      "userId": "02717025086480664074"
     },
     "user_tz": 480
    },
    "id": "g6ANaMl1gRZ1",
    "outputId": "04858afd-9f82-483f-dc7f-fe4c9a37fe68"
   },
   "outputs": [],
   "source": [
    "#@title Derive PI from The Arctangent of 45 (Pi/4 radians) { display-mode: \"form\" }\n",
    "\n",
    "import matplotlib.pyplot as plt\n",
    "maxterms=100\n",
    "\n",
    "# how many terms we calculate\n",
    "exp = 3\n",
    "sums = 1\n",
    "term = 1\n",
    "while (maxterms>0):\n",
    "    sums -= 1/exp\n",
    "    exp += 2\n",
    "    sums += 1/exp\n",
    "#    print ('term ' + str(term) + ' is ' + str(4*sums))\n",
    "    term += 1\n",
    "    exp += 2\n",
    "    maxterms -= 1\n",
    "    plt.scatter(term, 4*sums) \n",
    "\n",
    "print ('PI is ' + str(4*sums))\n",
    "plt.ylim(3.1,3.5)\n",
    "plt.show()    "
   ]
  },
  {
   "cell_type": "code",
   "execution_count": null,
   "metadata": {},
   "outputs": [],
   "source": []
  }
 ],
 "metadata": {
  "accelerator": "GPU",
  "colab": {
   "provenance": []
  },
  "kernelspec": {
   "display_name": "Python 3 (ipykernel)",
   "language": "python",
   "name": "python3"
  },
  "language_info": {
   "codemirror_mode": {
    "name": "ipython",
    "version": 3
   },
   "file_extension": ".py",
   "mimetype": "text/x-python",
   "name": "python",
   "nbconvert_exporter": "python",
   "pygments_lexer": "ipython3",
   "version": "3.9.13"
  }
 },
 "nbformat": 4,
 "nbformat_minor": 4
}
