{
  "cells": [
    {
      "cell_type": "markdown",
      "metadata": {},
      "source": [
        "## Computable Dart Board with Integration to Pixelboard\n",
        "### Authors: ????????"
      ]
    },
    {
      "cell_type": "markdown",
      "metadata": {},
      "source": [
        "<img src=\"https://chandrunarayan.github.io/fcsr/geometry/pi1.png\" align=\"left\" width=400 />\n",
        "Here we have a circular dart board with radius R inscribed in a square. If you threw <span style=\"color:red\"</span>A LOT OF DARTS</span> then Area = number of darts!\n",
        "\n",
        "$$Circle\\_Area={\\pi}\\times{R}^2$$\n",
        "\n",
        "$$Square\\_Area=(2\\times{R})^2$$\n",
        "\n",
        "$$\\frac{Square\\_Area}{Circle\\_Area}=\\frac{4\\times{R}^2}{\\pi\\times{R}^2}=\\frac{4}{\\pi}$$\n",
        "\n",
        "$$\\frac{Darts\\_in\\_Square}{Darts\\_in\\_Circle}=\\frac{4}{\\pi}$$\n",
        "$${\\pi}={4}\\times(\\frac{Darts\\_in\\_Circle}{Darts\\_in\\_Square})$$\n",
        "\n",
        "<span style=\"color:blue\">Now let's integrate the pixelboard!</span>\n"
      ]
    },
    {
      "cell_type": "markdown",
      "metadata": {
        "id": "0lzRIV0zgF_t"
      },
      "source": [
        "## Let the computer play Darts to calculate PI throw hundreds of Darts !!\n",
        "#### We will walk through and MODIFY each code cell below!"
      ]
    },
    {
      "cell_type": "markdown",
      "metadata": {},
      "source": [
        "### PEGBOARD Markdown Block\n",
        "\n",
        "![pc](pixel_coordinates.png)"
      ]
    },
    {
      "cell_type": "markdown",
      "metadata": {},
      "source": [
        "### ADD A PICTURE OF YOUR PIXEL BOARD BELOW!!"
      ]
    },
    {
      "cell_type": "code",
      "execution_count": null,
      "metadata": {},
      "outputs": [],
      "source": [
        "![myBoard]()"
      ]
    },
    {
      "cell_type": "markdown",
      "metadata": {},
      "source": [
        "### Coordinate Transformation Block "
      ]
    },
    {
      "cell_type": "code",
      "execution_count": null,
      "metadata": {
        "tags": []
      },
      "outputs": [],
      "source": [
        "# Specifying the origin and size of the pixel peg board\n",
        "\n",
        "num_pixels = 100   # 10x10 Matrix\n",
        "side = 10\n",
        "\n",
        "# Default Origin is top-left of pixel peg board\n",
        "rpx = 0  # top-left with +col going right\n",
        "cpx = 0  # top-left with +row going down\n",
        "\n",
        "def origin(loc):\n",
        "    global rpx\n",
        "    global cpx\n",
        "    if  loc == 'tl':     # top-left\n",
        "        rpx = 0              # top-left with +row going down\n",
        "        cpx = 0              # top-left with +col going right\n",
        "    elif  loc == 'bl':   # bot-left\n",
        "        rpx = side-1       # bot-left with +row going up\n",
        "        cpx = 0            # bot-left with +col going right\n",
        "    elif  loc == 'tr':   # top-right\n",
        "        rpx = 0            # top-right with +row going down\n",
        "        cpx = side-1       # top-right with +col going left\n",
        "    elif  loc == 'br':   # bot-right\n",
        "        rpx = side-1       # bot-right with +row going up\n",
        "        cpx = side-1       # bot-right with +col going left        \n",
        "    else:                # default top-left\n",
        "        rpx = 0            # top-left with +row going down\n",
        "        cpx = 0            # top-left with +col going right   "
      ]
    },
    {
      "cell_type": "code",
      "execution_count": null,
      "metadata": {
        "tags": []
      },
      "outputs": [],
      "source": [
        "# Creating pixel conversion 2-D Array 10x10\n",
        "import math\n",
        "import numpy as np\n",
        "\n",
        "P = np.array([[90,91,92,93,94,95,96,97,98,99], \n",
        "              [89,88,87,86,85,84,83,82,81,80],\n",
        "              [70,71,72,73,74,75,76,77,78,79], \n",
        "              [69,68,67,66,65,64,63,62,61,60],\n",
        "              [50,51,52,53,54,55,56,57,58,59], \n",
        "              [49,48,47,46,45,44,43,42,41,40],\n",
        "              [30,31,32,33,34,35,36,37,38,39], \n",
        "              [29,28,27,26,25,24,23,22,21,20],\n",
        "              [10,11,12,13,14,15,16,17,18,19], \n",
        "              [ 9, 8, 7, 6, 5, 4, 3, 2, 1, 0]])  \n",
        "\n",
        "def pix10(r,c):  \n",
        "    return P[abs(rpx-r)][abs(cpx-c)]\n",
        "\n",
        "def pix(x,y):  \n",
        "    p = math.trunc(5*(x+0.99))\n",
        "    q = math.trunc(5*(y-0.99))    \n",
        "    r = abs(q)\n",
        "    c = abs(p)\n",
        "    #print(f'r = {r} c = {c}')\n",
        "    return P[r][c]"
      ]
    },
    {
      "cell_type": "markdown",
      "metadata": {},
      "source": [
        "### Import Libraries Block"
      ]
    },
    {
      "cell_type": "code",
      "execution_count": null,
      "metadata": {
        "tags": []
      },
      "outputs": [],
      "source": [
        "#### IMPORT LIBRARIES Code Block\n",
        "import board\n",
        "import neopixel\n",
        "from time import sleep\n",
        "from datetime import datetime\n",
        "from sys import exit\n",
        "from gpiozero import LED, Button"
      ]
    },
    {
      "cell_type": "markdown",
      "metadata": {},
      "source": [
        "### Neopixel Setup Block"
      ]
    },
    {
      "cell_type": "code",
      "execution_count": null,
      "metadata": {
        "tags": []
      },
      "outputs": [],
      "source": [
        "#### Neopixel Setup Block\n",
        "pixel_pin = board.D18\n",
        "ORDER = neopixel.RGB\n",
        "pixels = neopixel.NeoPixel(pixel_pin, num_pixels, \n",
        "                           brightness=0.1, auto_write=False,\n",
        "                           pixel_order=ORDER)"
      ]
    },
    {
      "cell_type": "markdown",
      "metadata": {},
      "source": [
        "### Python Functions Block "
      ]
    },
    {
      "cell_type": "code",
      "execution_count": null,
      "metadata": {
        "tags": []
      },
      "outputs": [],
      "source": [
        "def reset():       # simply set leds off\n",
        "    for ii in range(num_pixels):\n",
        "        #pixels.fill((0,0,0))\n",
        "        pixels[ii]=((0,0,0))\n",
        "    pixels.show()\n",
        "    sleep(0.1)"
      ]
    },
    {
      "cell_type": "code",
      "execution_count": null,
      "metadata": {
        "tags": []
      },
      "outputs": [],
      "source": [
        "def initialize():   # set leds white-off\n",
        "    for ii in range(3):         # flash white 3-times\n",
        "        pixels.fill((0,0,0))\n",
        "        #print(pixels)\n",
        "        pixels.show()\n",
        "        sleep(0.1)\n",
        "        pixels.fill((255,255,255))\n",
        "        #print(pixels)\n",
        "        pixels.show()\n",
        "        sleep(0.1)\n",
        "    pixels.fill((0,0,0))\n",
        "    #print(pixels)\n",
        "    pixels.show()    "
      ]
    },
    {
      "cell_type": "code",
      "execution_count": null,
      "metadata": {
        "tags": []
      },
      "outputs": [],
      "source": [
        "def allcolors():    # set leds red-green-blue-yellow-magenta-cyan\n",
        "    pixels.fill((0,0,0))\n",
        "    #print(pixels)\n",
        "    pixels.show()\n",
        "    sleep(1)\n",
        "    pixels.fill((255,0,0))\n",
        "    #print(pixels)\n",
        "    pixels.show()\n",
        "    sleep(1)\n",
        "    pixels.fill((0,255,0))\n",
        "    #print(pixels)\n",
        "    pixels.show()\n",
        "    sleep(1)\n",
        "    pixels.fill((0,0,255))\n",
        "    #print(pixels)\n",
        "    pixels.show()\n",
        "    sleep(1)\n",
        "    pixels.fill((255,255,0))\n",
        "    #print(pixels)\n",
        "    pixels.show()\n",
        "    sleep(1)\n",
        "    pixels.fill((255,0,255))\n",
        "    #print(pixels)\n",
        "    pixels.show()\n",
        "    sleep(1)\n",
        "    pixels.fill((0,255,255))\n",
        "    #print(pixels)\n",
        "    pixels.show()\n",
        "    sleep(1)\n",
        "    pixels.fill((0,0,0))\n",
        "    #print(pixels)\n",
        "    pixels.show()\n",
        "    sleep(1)"
      ]
    },
    {
      "cell_type": "code",
      "execution_count": null,
      "metadata": {
        "tags": []
      },
      "outputs": [],
      "source": [
        "def finish():\n",
        "    for ii in range(3):         # flash cyan 3-times\n",
        "        pixels.fill((0,0,0))\n",
        "        #print(pixels)\n",
        "        pixels.show()\n",
        "        sleep(0.1)\n",
        "        pixels.fill((0,255,255))\n",
        "        #print(pixels)\n",
        "        pixels.show()\n",
        "        sleep(0.1)    \n",
        "    pixels.fill((0,0,0))\n",
        "    #print(pixels)\n",
        "    pixels.show()        "
      ]
    },
    {
      "cell_type": "code",
      "execution_count": null,
      "metadata": {
        "tags": []
      },
      "outputs": [],
      "source": [
        "def travel():\n",
        "    for ii in range(3):             # start 3-white flashes in first pixel then turn it green\n",
        "        pixels[0]=((0,0,0))\n",
        "        pixels.show()\n",
        "        sleep(0.1)\n",
        "        pixels[0]=((255,255,255))\n",
        "        pixels.show()\n",
        "        sleep(0.1)\n",
        "    pixels[0]=((0,255,0))\n",
        "    pixels.show()\n",
        "    sleep(0.1)\n",
        "\n",
        "    for ii in range(num_pixels):    # running cyan through entire strip\n",
        "        if ii > 1:                  # turn off previous - turn on current to red\n",
        "            pixels[ii-1]=((0,0,0))\n",
        "            pixels[ii]=((255,0,0))\n",
        "        if ii > int(num_pixels/2):  # Turn middle pixel only green \n",
        "            pixels[int(num_pixels/2)]=((0,255,0)) \n",
        "        pixels.show()\n",
        "        sleep(0.1)    \n",
        "\n",
        "    for ii in range(3):             # end 3-magenta flashes in last pixel then green\n",
        "        pixels[num_pixels-1]=((0,0,0))\n",
        "        pixels.show()\n",
        "        sleep(0.1)        \n",
        "        pixels[num_pixels-1]=((255,0,255))\n",
        "        pixels.show()\n",
        "        sleep(0.1)\n",
        "        \n",
        "    pixels[num_pixels-1]=((0,255,0))\n",
        "    pixels.show()\n",
        "    sleep(1)    \n",
        "    pixels.fill((0,0,0))\n",
        "    pixels.show()\n",
        "    sleep(0.1)     "
      ]
    },
    {
      "cell_type": "code",
      "execution_count": null,
      "metadata": {
        "tags": []
      },
      "outputs": [],
      "source": [
        "def fill_matrix(c):\n",
        "    for row in range(0,side):\n",
        "        for col in range(0,side):\n",
        "            pixn = pix10(row,col)\n",
        "            pixels[pixn] = ((c[0],c[1],c[2]))\n",
        "        pixels.show()\n",
        "        sleep(0.2)"
      ]
    },
    {
      "cell_type": "code",
      "execution_count": null,
      "metadata": {},
      "outputs": [],
      "source": [
        "def move_col(c):\n",
        "    for col in range(0,side):\n",
        "        for row in range(0,side):\n",
        "            pixn = pix10(row,col)\n",
        "            pixels[pixn] = ((c[0],c[1],c[2]))\n",
        "            if col > 0:\n",
        "                pixn = pix10(row,col-1)\n",
        "                pixels[pixn] = ((0,0,0))\n",
        "        pixels.show()\n",
        "        sleep(0.2)    \n",
        "    reset()\n",
        "    for col in range(side-1,-1,-1):\n",
        "        for row in range(0,side):\n",
        "            pixn = pix10(row,col)\n",
        "            pixels[pixn] = ((c[0],c[1],c[2]))\n",
        "            if col < side-1:\n",
        "                pixn = pix10(row,col+1)\n",
        "                pixels[pixn] = ((0,0,0))\n",
        "        pixels.show()\n",
        "        sleep(0.2)\n",
        "    reset()"
      ]
    },
    {
      "cell_type": "code",
      "execution_count": null,
      "metadata": {},
      "outputs": [],
      "source": [
        "def move_row(c):\n",
        "    for row in range(0,side):\n",
        "        for col in range(0,side):\n",
        "            pixn = pix10(row,col)\n",
        "            pixels[pixn] = ((c[0],c[1],c[2]))\n",
        "            if row > 0:\n",
        "                pixn = pix10(row-1,col)\n",
        "                pixels[pixn] = ((0,0,0))\n",
        "        pixels.show()\n",
        "        sleep(0.2)    \n",
        "    reset()\n",
        "    for row in range(side-1,-1,-1):\n",
        "        for col in range(0,side):\n",
        "            pixn = pix10(row,col)\n",
        "            pixels[pixn] = ((c[0],c[1],c[2]))\n",
        "            if row < side-1:\n",
        "                pixn = pix10(row+1,col)\n",
        "                pixels[pixn] = ((0,0,0))\n",
        "        pixels.show()\n",
        "        sleep(0.2)\n",
        "    reset()"
      ]
    },
    {
      "cell_type": "code",
      "execution_count": null,
      "metadata": {},
      "outputs": [],
      "source": [
        "#function to setup the plot and dartboard\n",
        "import numpy as np\n",
        "import matplotlib.pyplot as plt\n",
        "\n",
        "def plot_dartboard():\n",
        "    fig, axs = plt.subplots(1)\n",
        "    plt.margins(0.005, tight=True)\n",
        "    axs.set_aspect('equal')\n",
        "    theta = np.linspace(0, 2*np.pi, num_pixels)\n",
        "    radius = 1\n",
        "    a = radius * np.cos(theta)\n",
        "    b = radius * np.sin(theta)    \n",
        "    axs.plot(a,b)"
      ]
    },
    {
      "cell_type": "markdown",
      "metadata": {},
      "source": [
        "### Button Setup Block  NEEDS MOFIFICATION !!\n",
        "#### COPY the BUTTON SETUP Code Block from toggle_led.ipynb notebook down below\n",
        "#### MODIFY ```button_state``` to be ```False``` to begin with\n",
        "#### SELECT GPIO pin for Button and WIRE BREADBOARD ACCORDINGLY !!\n",
        "#### OPTIONAL ADD A SECOND BUTTON TO EXIT LOOP"
      ]
    },
    {
      "cell_type": "code",
      "execution_count": null,
      "metadata": {},
      "outputs": [],
      "source": [
        "#### BUTTON SETUP Code Block\n",
        "\n",
        "# Button setup\n",
        "# \n",
        "\n",
        "# This is the Callback funtion when button is pressed\n",
        "# Each time it is pressed this function is called by the system\n",
        "\n",
        "button_state = False\n",
        "\n",
        "def pressed(button):\n",
        "    global button_state  # Setup to access GLOBAL button_state\n",
        "    current_time = datetime.now()\n",
        "    print(f'button {button.pin.number} was pressed @ {current_time}')\n",
        "    # This is the statement that toggles button_state between True & False!\n",
        "    button_state = not button_state  \n",
        "# The Callback funtion ENDS HERE\n",
        "\n",
        "btnpin = ?????  # Connect LED long lead to GPIO?? other to GND - MODIFY THIS!\n",
        "button = Button(?????)  # Tell the button object that the pin is GPIO???  - MODIFY THIS!\n",
        "\n",
        "# 'pressed' is callback function above\n",
        "# 'button.when_pressed' is the event it reacts to\n",
        "button.when_pressed = pressed\n"
      ]
    },
    {
      "cell_type": "markdown",
      "metadata": {},
      "source": [
        "### Main Code Block\n",
        "#### THIS REQUIRES MODIFICATION BEFORE IT WILL WORK\n",
        "#### READ THE COMMENTS CAREFULLY!!"
      ]
    },
    {
      "cell_type": "code",
      "execution_count": null,
      "metadata": {},
      "outputs": [],
      "source": [
        "totalThrows = ????   # how many times we throw the dart per button push. Make this a small number say 3 - MODIFY THIS"
      ]
    },
    {
      "cell_type": "code",
      "execution_count": null,
      "metadata": {
        "tags": []
      },
      "outputs": [],
      "source": [
        "#Derive PI from a circle inscribed in a square\n",
        "import random,math,time\n",
        "import matplotlib.pyplot as plt\n",
        "\n",
        "# setup time\n",
        "start_time = time.time()\n",
        "\n",
        "# reset neopixel array\n",
        "reset()\n",
        "initialize()\n",
        "\n",
        "throwsInsideCircle = 0 # starting value for a counter\n",
        "throwsOutsideCircle = 0\n",
        "\n",
        "# Create the empty ax, ay, and cl arrays t\n",
        "# This hold all the x, y, and color values of throws\n",
        "# \n",
        "ax = []\n",
        "ay = []\n",
        "cl = []\n",
        "\n",
        "# LOOP UNTIL BUTTON IS CLICKED!\n",
        "\n",
        "\n",
        "while True:\n",
        "    # YOU NEED TO MODIFY the \"if\" condition under the \"while\" stmt to check \"button_state\"\n",
        "    if ????:   ## UPDATE THIS\n",
        "        \n",
        "        plot_dartboard()\n",
        "        for throw in range(10): # loop\n",
        "          x = random.random()*2 -1 # a random x value between [-1.0000,0.99999] not including 1\n",
        "          ax.append(x)\n",
        "          y = random.random()*2 -1 # a random y value between [-1.0000,0.99999] not including 1\n",
        "          ay.append(y)\n",
        "\n",
        "          if(x*x + y*y <= 1.0): # if inside the circle (distance squared)\n",
        "            throwsInsideCircle += 1\n",
        "            cl.append('darkgreen')\n",
        "            plt.scatter(ax, ay, color=cl)\n",
        "            pixels[pix(x,y)]=((0,255,0))\n",
        "          else:\n",
        "            throwsOutsideCircle += 1\n",
        "            cl.append('red')\n",
        "            plt.scatter(ax, ay, color=cl)\n",
        "            pixels[pix(x,y)]=((255,0,0))\n",
        "\n",
        "          # all done, compute pi\n",
        "          pi = (4.0*throwsInsideCircle)/(throwsInsideCircle + throwsOutsideCircle)\n",
        "          #print(pi) \n",
        "          #print(\"--- %s seconds ---\" % (time.time() - start_time))\n",
        "\n",
        "          # show darts in neopixel array\n",
        "          pixels.show()\n",
        "          #print('throws so far = ' + str(throw+1) + '  calculated pi = ' + str(pi))\n",
        "          sleep(.2)\n",
        "        \n",
        "        plt.title('throws = ' + str(throwsInsideCircle + throwsOutsideCircle) + '  calculated pi = ' + str(pi))    \n",
        "        plt.show()\n",
        "        end_time = time.time()\n",
        "        elapsed_time = end_time-start_time\n",
        "        print(f'   --- threw {(throwsInsideCircle + throwsOutsideCircle)} darts in {elapsed_time:.2f} seconds ---')\n",
        "        \n",
        "        ## Toggle the \"button_state\" below !!\n",
        "        ??? = not ???   ## UPDATE THIS LINE OF CODE TO TOGGLE \"button_state\"\n",
        "\n"
      ]
    },
    {
      "cell_type": "code",
      "execution_count": null,
      "metadata": {},
      "outputs": [],
      "source": []
    }
  ],
  "metadata": {
    "accelerator": "GPU",
    "colab": {
      "provenance": []
    },
    "kernelspec": {
      "display_name": "Python 3 (ipykernel)",
      "language": "python",
      "name": "python3"
    },
    "language_info": {
      "codemirror_mode": {
        "name": "ipython",
        "version": 3
      },
      "file_extension": ".py",
      "mimetype": "text/x-python",
      "name": "python",
      "nbconvert_exporter": "python",
      "pygments_lexer": "ipython3",
      "version": "3.11.2"
    },
    "nteract": {
      "version": "0.28.0"
    }
  },
  "nbformat": 4,
  "nbformat_minor": 4
}
