{
 "cells": [
  {
   "cell_type": "markdown",
   "metadata": {},
   "source": [
    "## Test the Camera\n",
    "### Authors: ?????"
   ]
  },
  {
   "cell_type": "code",
   "execution_count": null,
   "metadata": {},
   "outputs": [],
   "source": []
  },
  {
   "cell_type": "markdown",
   "metadata": {},
   "source": [
    "### Import Libraries Block"
   ]
  },
  {
   "cell_type": "code",
   "execution_count": null,
   "metadata": {
    "tags": []
   },
   "outputs": [],
   "source": [
    "#### IMPORT LIBRARIES Code Block\n",
    "import matplotlib.pyplot as plt\n",
    "import cv2\n",
    "import random,math,time\n",
    "from time import sleep\n",
    "from datetime import datetime\n",
    "from sys import exit\n",
    "import subprocess\n",
    "from gpiozero import LED, Button\n",
    "import signal\n",
    "from signal import pause"
   ]
  },
  {
   "cell_type": "markdown",
   "metadata": {},
   "source": [
    "### Python Functions Block "
   ]
  },
  {
   "cell_type": "code",
   "execution_count": null,
   "metadata": {},
   "outputs": [],
   "source": [
    "def take_image():\n",
    "    # datetime object containing current date and time\n",
    "    !mkdir -p images\n",
    "    now = datetime.now()\n",
    "    #thisdate = today.strftime(\"%b-%d-%Y-%hr-%M\")\n",
    "    thisdate = now.strftime(\"%d%m%Y%H%M%S\")\n",
    "    thisimg = f'testimg_{thisdate}.jpg'\n",
    "    !libcamera-still -n -o images/$thisimg\n",
    "    return f'images/{thisimg}'"
   ]
  },
  {
   "cell_type": "code",
   "execution_count": null,
   "metadata": {},
   "outputs": [],
   "source": [
    "def show_image(thisimg):\n",
    "    %matplotlib inline\n",
    "    img = cv2.imread(thisimg) \n",
    "    #img = cv2.flip(rimg,0)\n",
    "    #plt.title(\"Selfie Booth - original color image\")\n",
    "    #plt.imshow(cv2.cvtColor(img, cv2.COLOR_BGR2RGB))\n",
    "\n",
    "    f = plt.figure(figsize=(10, 10))\n",
    " \n",
    "    a1 = f.add_subplot(2, 2, 1) \n",
    "    grayImg = cv2.cvtColor(img, cv2.COLOR_BGR2GRAY)\n",
    "    plt.imshow(grayImg, cmap = 'gray') \n",
    "    a1.title.set_text(\"Testing Camera - gray scale image\")\n",
    "    \n",
    "    a2 = f.add_subplot(2, 2, 2) \n",
    "    plt.imshow(cv2.cvtColor(img, cv2.COLOR_BGR2RGB)) \n",
    "    a2.title.set_text(\"Testing Camera - original color image\")\n",
    "\n",
    "    a3 = f.add_subplot(2, 2, 3) \n",
    "    grayImg = cv2.cvtColor(img, cv2.COLOR_BGR2GRAY)\n",
    "    plt.imshow(grayImg, cmap = 'gray') \n",
    "    a3.title.set_text(\"Testing Camera - gray scale image\")\n",
    "    \n",
    "    a4 = f.add_subplot(2, 2, 4) \n",
    "    plt.imshow(cv2.cvtColor(img, cv2.COLOR_BGR2RGB)) \n",
    "    a4.title.set_text(\"Testing Camera - original color image\")\n",
    "\n",
    "    plt.show()\n"
   ]
  },
  {
   "cell_type": "markdown",
   "metadata": {},
   "source": [
    "### Main Code Block\n",
    "#### Pause for button push to take image"
   ]
  },
  {
   "cell_type": "code",
   "execution_count": null,
   "metadata": {},
   "outputs": [],
   "source": [
    "def take_photo():\n",
    "    img = take_image()\n",
    "    show_image(img)"
   ]
  },
  {
   "cell_type": "code",
   "execution_count": null,
   "metadata": {},
   "outputs": [],
   "source": [
    "take_photo()"
   ]
  }
 ],
 "metadata": {
  "accelerator": "GPU",
  "colab": {
   "provenance": []
  },
  "kernelspec": {
   "display_name": "Python 3 (ipykernel)",
   "language": "python",
   "name": "python3"
  },
  "language_info": {
   "codemirror_mode": {
    "name": "ipython",
    "version": 3
   },
   "file_extension": ".py",
   "mimetype": "text/x-python",
   "name": "python",
   "nbconvert_exporter": "python",
   "pygments_lexer": "ipython3",
   "version": "3.11.2"
  },
  "nteract": {
   "version": "0.28.0"
  }
 },
 "nbformat": 4,
 "nbformat_minor": 4
}
