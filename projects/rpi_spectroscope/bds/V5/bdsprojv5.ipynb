{
 "cells": [
  {
   "cell_type": "markdown",
   "metadata": {
    "toc": true
   },
   "source": [
    "<h1>Table of Contents<span class=\"tocSkip\"></span></h1>\n",
    "<div class=\"toc\"><ul class=\"toc-item\"><li><span><a href=\"#FSCR-BUSH-DIGITAL-SPECTROMETER-JUPYTER-NOTEBOOK\" data-toc-modified-id=\"FSCR-BUSH-DIGITAL-SPECTROMETER-JUPYTER-NOTEBOOK-1\"><span class=\"toc-item-num\">1&nbsp;&nbsp;</span>FSCR BUSH DIGITAL SPECTROMETER JUPYTER NOTEBOOK</a></span><ul class=\"toc-item\"><li><span><a href=\"#BDS-Header-Block\" data-toc-modified-id=\"BDS-Header-Block-1.1\"><span class=\"toc-item-num\">1.1&nbsp;&nbsp;</span>BDS Header Block</a></span></li><li><span><a href=\"#Importing-Libraries-and-Notebooks\" data-toc-modified-id=\"Importing-Libraries-and-Notebooks-1.2\"><span class=\"toc-item-num\">1.2&nbsp;&nbsp;</span>Importing Libraries and Notebooks</a></span></li><li><span><a href=\"#BDS-Configuration-Parameters\" data-toc-modified-id=\"BDS-Configuration-Parameters-1.3\"><span class=\"toc-item-num\">1.3&nbsp;&nbsp;</span>BDS Configuration Parameters</a></span></li><li><span><a href=\"#BDS-File-Output-Names\" data-toc-modified-id=\"BDS-File-Output-Names-1.4\"><span class=\"toc-item-num\">1.4&nbsp;&nbsp;</span>BDS File Output Names</a></span></li><li><span><a href=\"#Creating-the-Spectrometer-Camera-Object\" data-toc-modified-id=\"Creating-the-Spectrometer-Camera-Object-1.5\"><span class=\"toc-item-num\">1.5&nbsp;&nbsp;</span>Creating the Spectrometer Camera Object</a></span></li><li><span><a href=\"#Obtaining-the-Raw-Image-of-the-Spectrum\" data-toc-modified-id=\"Obtaining-the-Raw-Image-of-the-Spectrum-1.6\"><span class=\"toc-item-num\">1.6&nbsp;&nbsp;</span>Obtaining the Raw Image of the Spectrum</a></span></li><li><span><a href=\"#Draw-Visual-Aperture-and-Measure-Emission-Spectral-Peaks\" data-toc-modified-id=\"Draw-Visual-Aperture-and-Measure-Emission-Spectral-Peaks-1.7\"><span class=\"toc-item-num\">1.7&nbsp;&nbsp;</span>Draw Visual Aperture and Measure Emission Spectral Peaks</a></span></li><li><span><a href=\"#Display-Emission-Spectrum-and-Compare-with-NIST-Standard-values\" data-toc-modified-id=\"Display-Emission-Spectrum-and-Compare-with-NIST-Standard-values-1.8\"><span class=\"toc-item-num\">1.8&nbsp;&nbsp;</span>Display Emission Spectrum and Compare with NIST Standard values</a></span></li></ul></li></ul></div>"
   ]
  },
  {
   "cell_type": "markdown",
   "metadata": {},
   "source": [
    "# FSCR BUSH DIGITAL SPECTROMETER JUPYTER NOTEBOOK"
   ]
  },
  {
   "cell_type": "markdown",
   "metadata": {},
   "source": [
    "## BDS Header Block"
   ]
  },
  {
   "cell_type": "code",
   "execution_count": null,
   "metadata": {
    "tags": []
   },
   "outputs": [],
   "source": [
    "# BUSH DIGITAL SPECTROMETER SOFTWARE INTERACTIVE VERSION\n",
    "# Author - Chandru Narayan\n",
    "# TEMPLATE FOR FCSR STUDENTS\n",
    "# CN Version_12i  11/25/2019 cloned from automated version v11\n",
    "#\n",
    "#    120219 CN \"Added function call to print BDS parameters\"\n",
    "#    120419 CN \"Added function call to compute peaks in the spectrum wavelengths\"\n",
    "#    120619 CN \"Added cell for bdscfg parms\"\n",
    "#    120619 CN \"Added Try-Except Block for creating Camera Objects\"\n",
    "#    040424 CN \"Udated code for deprecated methods\"\n",
    "#    040424 CN \"Added Cloudy Sky Spectrum Standard\"\n"
   ]
  },
  {
   "cell_type": "code",
   "execution_count": null,
   "metadata": {
    "tags": []
   },
   "outputs": [],
   "source": [
    "#!pip install --upgrade pip\n",
    "#!pip install opencv-python-headless\n",
    "#!pip install peakutils"
   ]
  },
  {
   "cell_type": "markdown",
   "metadata": {
    "hide_input": false
   },
   "source": [
    "## Importing Libraries and Notebooks"
   ]
  },
  {
   "cell_type": "code",
   "execution_count": null,
   "metadata": {
    "hide_input": false,
    "tags": []
   },
   "outputs": [],
   "source": [
    "import import_ipynb\n",
    "from IPython.core.display import Image\n",
    "from IPython.core.display import display\n",
    "from IPython.display import IFrame\n",
    "#import PIL\n",
    "from PIL import Image as pilimg\n",
    "from PIL import ImageDraw as pildraw\n",
    "from PIL import ImageFont as pilfont\n",
    "import os, sys\n",
    "import time\n",
    "from datetime import datetime\n",
    "import cv2\n",
    "import matplotlib.pyplot as plt\n",
    "\n",
    "class StopExecution(Exception):\n",
    "    def _render_traceback_(self):\n",
    "        pass\n",
    "    "
   ]
  },
  {
   "cell_type": "code",
   "execution_count": null,
   "metadata": {
    "hide_input": false,
    "tags": []
   },
   "outputs": [],
   "source": [
    "# BUSH LIBRARY FUNCTIONS FOR BUSH DIGITAL SPECTROMETER SOFTWARE INTERACTIVE VERSION\n",
    "# Author - Chandru Narayan\n",
    "# TEMPLATE FOR FCSR STUDENTS\n",
    "# CN Version_11i  12/1/2019 cloned from automated version v11\n",
    "# IMPORT BDSLIB AND BDSCFG HERE\n",
    "import bdslibv5"
   ]
  },
  {
   "cell_type": "markdown",
   "metadata": {},
   "source": [
    "## BDS Configuration Parameters"
   ]
  },
  {
   "cell_type": "code",
   "execution_count": null,
   "metadata": {
    "hide_input": false,
    "tags": []
   },
   "outputs": [],
   "source": [
    "###\n",
    "#    BUSH DIGITAL TELESCOPE SOFTWARE CONFIG SECTION\n",
    "#    TO BE USED IN THE INTERACTIVE VERSION ONLY\n",
    "#    FOR DETAILED DESCRIPTION OF PARMS SEE BDS CONFIG DOC \n",
    "###\n",
    "\n",
    "#\n",
    "# NAMING\n",
    "#\n",
    "source = 'dalylight'      \n",
    "element = 'daylight'                    \n",
    "desc = 'daylight sky spectrum' \n",
    "\n",
    "#\n",
    "# CAMERA\n",
    "#\n",
    "shutter = 500000\n",
    "\n",
    "#\n",
    "# CALIBRATION\n",
    "#\n",
    "wavelength_factor = 0.69\n",
    "spectrum_angle = 0\n",
    "slit_topadj = 0\n",
    "slit_botadj = -0\n",
    "\n",
    "#\n",
    "# PLOTS\n",
    "#\n",
    "samp_th = 0.05\n",
    "wlen_th = 35\n",
    "\n"
   ]
  },
  {
   "cell_type": "markdown",
   "metadata": {},
   "source": [
    "## BDS File Output Names"
   ]
  },
  {
   "cell_type": "code",
   "execution_count": null,
   "metadata": {},
   "outputs": [],
   "source": [
    "# First let us set the date and time and we may not have internet access\n",
    "# Uncomment/Edit/RUN statements below if spectroscope is not connected to the internet\n",
    "# !date -s '2024-04-08 12:46:30'\n",
    "# !date"
   ]
  },
  {
   "cell_type": "code",
   "execution_count": null,
   "metadata": {},
   "outputs": [],
   "source": [
    "#!date -s '2024-04-04 09:38:30'\n",
    "#!date"
   ]
  },
  {
   "cell_type": "code",
   "execution_count": null,
   "metadata": {
    "tags": []
   },
   "outputs": [],
   "source": [
    "# STEP 1. SETUP FILE BASENAMES WITH TIMESTAMPS\n",
    "#       setup the source or basename for files\n",
    "#       make it indicative of the spectrum you are taking\n",
    "#       keep it short but meaningful. Do not name \"a1\" etc!\n",
    "#source = 'cfls'\n",
    "\n",
    "# Filenames be appended with date and time \n",
    "# such that they will not be overwritten \n",
    "now = datetime.now()\n",
    "name = source + now.strftime(\"%m%d%H%M%S\")\n",
    "raw_filename = name + \"_raw\"\n",
    "ovl_filename = name + \"_ovl\"\n",
    "cht_filename = name + \"_cht\"\n",
    "tbl_filename = name + \"_tbl\"\n",
    "par_filename = name + \"_par\"\n",
    "pks_filename = name + \"_pks\""
   ]
  },
  {
   "cell_type": "code",
   "execution_count": null,
   "metadata": {
    "tags": []
   },
   "outputs": [],
   "source": [
    "################## STUDENT TO ADD EDITS BELOW ################################\n",
    "## WRITE A STATEMENT TO PRINT THE 4 OUTPUT NAMES FROM THE BDS SOFTWARE TO FAMILIARIZE YOURSELF\n",
    "\n",
    "print(raw_filename)\n",
    "print(ovl_filename)\n",
    "print(cht_filename)\n",
    "print(tbl_filename)\n",
    "print(par_filename)\n",
    "print(pks_filename)"
   ]
  },
  {
   "cell_type": "code",
   "execution_count": null,
   "metadata": {
    "tags": []
   },
   "outputs": [],
   "source": [
    "################## STOP HERE STUDENT/INSTRUCTOR TO VALIDATE STEP 1 ####################\n",
    "## VALIDATE THE NAMES OF FILES TO BE CREATED - DO THEY LOOK RIGHT ??? ##\n",
    "\n",
    "# DO NOT GO FORWARD UNTIL INSTRUCTOR VALIDATES"
   ]
  },
  {
   "cell_type": "markdown",
   "metadata": {},
   "source": [
    "## Obtaining Image of Spectrum\n"
   ]
  },
  {
   "cell_type": "code",
   "execution_count": null,
   "metadata": {
    "tags": []
   },
   "outputs": [],
   "source": [
    "# STEP 2. CREATE THE CAMERA OBJECT\n",
    "#         CAPTURE THE RAW SPECTRUM IMAGE\n",
    "#         THIS WILL BE EXAMINED FOR ANY ADJUSTMENTS NEEDED\n",
    "#         FOR EXAMPLE IMAGE BRIGHTNESS LIGHT LEAKAGE ETC\n",
    "#         DISPLAY CAPTURED IMAGE"
   ]
  },
  {
   "cell_type": "code",
   "execution_count": null,
   "metadata": {
    "tags": []
   },
   "outputs": [],
   "source": [
    "raw_jpg_filename=bdslibv5.take_image(shutter)\n",
    "bdslibv5.show_image(raw_jpg_filename)"
   ]
  },
  {
   "cell_type": "markdown",
   "metadata": {},
   "source": [
    "## Displaying Processed Image of Spectrum with parameters"
   ]
  },
  {
   "cell_type": "code",
   "execution_count": null,
   "metadata": {
    "tags": []
   },
   "outputs": [],
   "source": [
    "#       view image and apply putty or tape inside spectroscope to prevent light leakage\n",
    "#       remember - image is flipped laterally from left right!\n",
    "display(Image(raw_jpg_filename))\n",
    "bdslibv5.display_bds_params(name,desc,shutter,slit_topadj,slit_botadj,spectrum_angle,wavelength_factor,samp_th,wlen_th)"
   ]
  },
  {
   "cell_type": "markdown",
   "metadata": {},
   "source": [
    "## Draw Visual Aperture and Measure Emission Spectral Peaks "
   ]
  },
  {
   "cell_type": "code",
   "execution_count": null,
   "metadata": {
    "tags": []
   },
   "outputs": [],
   "source": [
    "# STEP 3. PROCESS THE IMAGE AND LOCATE THE SLIT (APERTURE)\n",
    "#         READ RAW JPG FILE OBTAINED IN A PIXEL ARRAY\n",
    "#         RECORD THE PIXEL WIDTH AND HEIGHT\n",
    "#         NARROW THE PIXEL WINDOW FOR SLIT TOP AND BOTTOM\n",
    "#         FOR EXAMPLE IMAGE BRIGHTNESS LIGHT LEAKAGE ETC\n",
    "#         DISPLAY CAPTURED IMAGE"
   ]
  },
  {
   "cell_type": "code",
   "execution_count": null,
   "metadata": {
    "tags": []
   },
   "outputs": [],
   "source": [
    "#         READ RAW JPG FILE OBTAINED IN A PIXEL ARRAY\n",
    "im = pilimg.open(raw_jpg_filename)\n",
    "pic_pixels = im.load()\n",
    "#         record the pixel width and height\n",
    "width = im.size[0]\n",
    "height = im.size[1]\n",
    "print(\"width is %d, height is %d\" % (width, height))\n",
    "#        The slit needs to be shortened in height at times due to light leakage\n",
    "#        inside spectrometer. This small adjustment can be made here. \n",
    "#        bigger negative numbers for smaller for bottom slit \n",
    "#        bigger positive numbers for smaller top slit \n",
    "#        for daylight or bright spectrum we need to narrow the slit greatly.\n",
    "#        default values are set above\n",
    "#        Adjust and uncomment below if you need\n",
    "#slit_topadj = 0\n",
    "#slit_botadj = -0\n",
    "\n",
    "#        call library function to find the aperture in the raw image (pixel array)\n",
    "aperture = bdslibv5.find_aperture(pic_pixels, width, height, slit_topadj, slit_botadj)\n",
    "#        draw the aperture\n",
    "draw = pildraw.Draw(im)\n",
    "bdslibv5.draw_aperture(aperture, draw)\n"
   ]
  },
  {
   "cell_type": "code",
   "execution_count": null,
   "metadata": {
    "tags": []
   },
   "outputs": [],
   "source": [
    "#        Draw scan line using the Spectrum angle\n",
    "#        This is the angle that the camera and diffration grating makes with the light path\n",
    "#        The Spectrum Angle trignometric tangent of the angle the camera and diffration grating makes \n",
    "#        with the line of sight to the entry slit. This usually does not need to be changed very much \n",
    "#        as it manipulates where in the observation area the spectrum falls. It only needs to be \n",
    "#        approximate such that pixel counter can find it\n",
    "#        default values are set above\n",
    "#        Adjust and uncomment below if you need\n",
    "#spectrum_angle = 0.01\n",
    "#        draw the scan lline\n",
    "bdslibv5.draw_scan_line(aperture, draw, spectrum_angle)"
   ]
  },
  {
   "cell_type": "code",
   "execution_count": null,
   "metadata": {
    "tags": []
   },
   "outputs": [],
   "source": [
    "#        The wavelength_factor is the variable used for calibrating the spectroscope such that \n",
    "#        the calibration spectral line matches the known standard for that emission spectrum\n",
    "#        The wavelength_factor is close to 0.90 for the 1000 lines/mm diffration grating\n",
    "#        The wavelength_factor is close to 0.60 for the 500 lines/mm diffration grating\n",
    "#        default values are set above\n",
    "#        Adjust and uncomment below if you need\n",
    "#wavelength_factor = 0.9 \n",
    "try:\n",
    "    results, max_result = bdslibv5.draw_graph(draw, pic_pixels, aperture, spectrum_angle, wavelength_factor)\n",
    "except:\n",
    "    #camera.close()\n",
    "    print(\"Exception while creating an aperture\")\n",
    "    print(\"This run **** TERMINATED PREMATURELY **** ...\")\n",
    "    print(\"Maybe the result of misaligned light path a very dim spectrum\")\n",
    "    print(\"Adjust Light Path Alignment OR Increase Shutter parameter and try again\")    \n",
    "    raise StopExecution\n",
    "else:\n",
    "    print(\"Producing graphical result\");"
   ]
  },
  {
   "cell_type": "code",
   "execution_count": null,
   "metadata": {
    "tags": []
   },
   "outputs": [],
   "source": [
    "#        Display actual and ideal targets for camera exposure corrections\n",
    "bdslibv5.inform_user_of_exposure(max_result)"
   ]
  },
  {
   "cell_type": "code",
   "execution_count": null,
   "metadata": {
    "tags": []
   },
   "outputs": [],
   "source": [
    "#       Create the spectrum image overlaid with aperture and scan line\n",
    "ovl_jpg_filename = ovl_filename + \".jpg\"\n",
    "bdslibv5.save_image_with_overlay(im, ovl_jpg_filename)\n"
   ]
  },
  {
   "cell_type": "code",
   "execution_count": null,
   "metadata": {
    "tags": []
   },
   "outputs": [],
   "source": [
    "#       View the Overlaid image fix parameters and rerun STEP 3 ONLY from the beginning as needed\n",
    "display(Image(ovl_jpg_filename))\n",
    "bdslibv5.display_bds_params(name,desc,shutter,slit_topadj,slit_botadj,spectrum_angle,wavelength_factor,samp_th,wlen_th)"
   ]
  },
  {
   "cell_type": "code",
   "execution_count": null,
   "metadata": {},
   "outputs": [],
   "source": [
    "################## STOP HERE STUDENT/INSTRUCTOR TO VALIDATE STEP 3 ####################\n",
    "## IS THE ACTUAL EXPOSURE WITHIN THE TARGET LIMITS ??\n",
    "## DID A RECTANGULAR WINDOW APPEAR OVERLAID ON THE IMAGE  ENCLOSING THE SPECTRUM ??\n",
    "## IS THE SCAN LINE VISIBLE ??\n",
    "## IS THE SCAN LINE ALIGNED WITH THE SLIT ??\n",
    "## IF NOT WE HAVE TO MAKE ADJUSTMENTS BEFORE PROCEEDING\n",
    "## READ INSTRUCTIONS IN VARIOUS CELLS ON THIS STEP\n",
    "## MAKE CHANGES AND ASK FOR ME TO VALIDATE BEFORE PROCEEDING\n",
    "\n",
    "# DO NOT GO FORWARD UNTIL INSTRUCTOR VALIDATES"
   ]
  },
  {
   "cell_type": "markdown",
   "metadata": {},
   "source": [
    "## Display Emission Spectrum and Compare with NIST Standard values"
   ]
  },
  {
   "cell_type": "code",
   "execution_count": null,
   "metadata": {
    "tags": []
   },
   "outputs": [],
   "source": [
    "cht_png_filename = cht_filename + \".png\"\n",
    "print(cht_png_filename)"
   ]
  },
  {
   "cell_type": "code",
   "execution_count": null,
   "metadata": {},
   "outputs": [],
   "source": [
    "# STEP 4 FINAL STEP! NORMALIZE AND CREATE/DISPLAY SPECTRUM CHART\n",
    "# MAKE ADJUSTMENTS AND RERUN FROM THE BEGINNING IF NEEDED\n",
    "normalized_results = bdslibv5.normalize_results(results, max_result)"
   ]
  },
  {
   "cell_type": "code",
   "execution_count": null,
   "metadata": {},
   "outputs": [],
   "source": [
    "#       Create the spectrum chart overlaid with the proper wavelengths \n",
    "#       and color map according to frequency\n",
    "cht_png_filename = cht_filename + \".png\"\n",
    "bdslibv5.export_diagram(cht_png_filename, normalized_results)"
   ]
  },
  {
   "cell_type": "code",
   "execution_count": null,
   "metadata": {},
   "outputs": [],
   "source": [
    "#display(Image(cht_png_filename))\n",
    "#bdslibv5.display_bds_params(name,desc,shutter,slit_topadj,slit_botadj,spectrum_angle,wavelength_factor,samp_th,wlen_th)\n"
   ]
  },
  {
   "cell_type": "code",
   "execution_count": null,
   "metadata": {},
   "outputs": [],
   "source": [
    "#       Print the Spectral Peaks table of wavelengths \n",
    "#       for current spectral image obtained\n",
    "csv_tbl_filename = tbl_filename + \".csv\"\n",
    "bdslibv5.export_csv(tbl_filename, normalized_results)\n",
    "\n",
    "#       Uncomment and change these thresholds if necessary if\n",
    "#       you would like to increase or decrease the number\n",
    "#       of Spectral peaks found\n",
    "\n",
    "#samp_th = 0.2\n",
    "#wlen_th = 10\n",
    "#       Call function to draw the Spectral Peaks which will\n",
    "#       Plot the peaks and return a list of Peak Wavelengths\n",
    "pks_png_filename = pks_filename + \".png\"\n",
    "peak_wl, t1, t2 = bdslibv5.draw_spectral_line_peaks(element,csv_tbl_filename, pks_png_filename, desc, samp_th, wlen_th)\n",
    "bdslibv5.display_bds_params(name,desc,shutter,slit_topadj,slit_botadj,spectrum_angle,wavelength_factor,samp_th,wlen_th)\n",
    "par_txt_filename = par_filename + \".txt\"\n",
    "bdslibv5.write_bds_params(par_txt_filename,name,desc,shutter,slit_topadj,slit_botadj,spectrum_angle,wavelength_factor,samp_th,wlen_th)"
   ]
  },
  {
   "cell_type": "code",
   "execution_count": null,
   "metadata": {},
   "outputs": [],
   "source": [
    "# show actual image of spectrum for comparison\n",
    "bdslibv5.show_image(ovl_jpg_filename)"
   ]
  },
  {
   "cell_type": "code",
   "execution_count": null,
   "metadata": {},
   "outputs": [],
   "source": [
    "pattern = pilimg.open(cht_png_filename).convert('RGBA')\n",
    "#txt = pilimg.new('RGBA', pattern.size, (255,255,255,0))\n",
    "size = width, height = pattern.size\n",
    "draw = pildraw.Draw(pattern,'RGBA')\n",
    "font = pilfont.truetype('Lato-Regular.ttf', 12)\n",
    "#print(size)\n",
    "draw.text((0,0), desc.upper(), font=font, fill='#000')\n",
    "draw.text((0,20), t1, font=font, fill='#000')\n",
    "draw.text((0,40), t2, font=font, fill='#000')\n",
    "#draw.text((0,100), \"Hello World\", (0, 0, 0, 0),font=font)\n",
    "pattern.save(cht_png_filename)"
   ]
  },
  {
   "cell_type": "code",
   "execution_count": null,
   "metadata": {},
   "outputs": [],
   "source": [
    "\n",
    "bdslibv5.display(Image(cht_png_filename))\n",
    "#bdslibv5.display_bds_params(name,desc,shutter,slit_topadj,slit_botadj,spectrum_angle,wavelength_factor,samp_th,wlen_th)"
   ]
  },
  {
   "cell_type": "code",
   "execution_count": null,
   "metadata": {},
   "outputs": [],
   "source": [
    "# Show sky spectrum\n",
    "# ref: https://en.wikipedia.org/wiki/Diffuse_sky_radiation\n",
    "\n",
    "# cfls spectrum\n",
    "# ref: https://www.bealecorner.org/best/measure/cf-spectrum/\n",
    "# ref: https://commons.wikimedia.org/wiki/File:Fluorescent_lighting_spectrum_peaks_labelled.gif\n",
    "\n",
    "if 'sky' in desc.lower() or 'cloud' in desc.lower() :\n",
    "    bss = \"blue_sky_spectrum.png\"\n",
    "    display(Image(bss))\n",
    "    bss = \"cloudysky_wiki.png\"\n",
    "    display(Image(bss))   \n",
    "elif 'cfls' in desc.lower() or 'flourescent' in desc.lower() :\n",
    "    cfls1 = \"cfls_standard.png\"\n",
    "    display(Image(cfls1))\n",
    "    cfls2 = \"cfls_plot.png\"\n",
    "    display(Image(cfls2))\n",
    "    cfls3 = \"cfls_table.png\"\n",
    "    display(Image(cfls3))"
   ]
  },
  {
   "cell_type": "code",
   "execution_count": null,
   "metadata": {},
   "outputs": [],
   "source": [
    "#camera.close()"
   ]
  },
  {
   "cell_type": "code",
   "execution_count": null,
   "metadata": {},
   "outputs": [],
   "source": [
    "################## STOP HERE STUDENT/INSTRUCTOR TO VALIDATE STEP 4 FINAL STEP ####################\n",
    "## CONGRATULATIONS - YOU MADE A FANCY DIGITAL SPECTROSCOPE AND MADE YOUR FIRST MEASUREMENTS!\n",
    "## \n",
    "## DID THE SPECTRAL CHART APPEAR ??\n",
    "## DOES THE CHART LOOK CORRECT ??\n",
    "## DOES IT MATCH WITH THE STANDARD FOR ELEMENTS FOUND IN THE STANDARD SPECTRUM ??\n",
    "## IF NOT WE WILL MAKE ADJUSTMENTS TO PARAMETERS ABOVE AS DOCUMENTED\n",
    "## MAKE CHANGES AND ASK FOR ME TO VALIDATE BEFORE PROCEEDING\n",
    "\n",
    "# DO NOT GO FORWARD UNTIL INSTRUCTOR VALIDATES\n",
    "# WHEN YOU HAVE GOOD RESULTS PRINT FROM THE \"FILE->PRINT PREVIEW\" FROM\n",
    "# THE JUPYTER NOTEBOOK AND GET THIS NOTEBOOK PRINTED FOR VALIDATION!"
   ]
  },
  {
   "cell_type": "code",
   "execution_count": null,
   "metadata": {},
   "outputs": [],
   "source": []
  },
  {
   "cell_type": "code",
   "execution_count": null,
   "metadata": {},
   "outputs": [],
   "source": []
  }
 ],
 "metadata": {
  "hide_input": false,
  "kernelspec": {
   "display_name": "Python 3 (ipykernel)",
   "language": "python",
   "name": "python3"
  },
  "language_info": {
   "codemirror_mode": {
    "name": "ipython",
    "version": 3
   },
   "file_extension": ".py",
   "mimetype": "text/x-python",
   "name": "python",
   "nbconvert_exporter": "python",
   "pygments_lexer": "ipython3",
   "version": "3.11.2"
  },
  "toc": {
   "base_numbering": 1,
   "nav_menu": {},
   "number_sections": true,
   "sideBar": true,
   "skip_h1_title": false,
   "title_cell": "Table of Contents",
   "title_sidebar": "Contents",
   "toc_cell": true,
   "toc_position": {
    "height": "981px",
    "left": "30px",
    "top": "110px",
    "width": "212px"
   },
   "toc_section_display": false,
   "toc_window_display": false
  },
  "varInspector": {
   "cols": {
    "lenName": 16,
    "lenType": 16,
    "lenVar": 40
   },
   "kernels_config": {
    "python": {
     "delete_cmd_postfix": "",
     "delete_cmd_prefix": "del ",
     "library": "var_list.py",
     "varRefreshCmd": "print(var_dic_list())"
    },
    "r": {
     "delete_cmd_postfix": ") ",
     "delete_cmd_prefix": "rm(",
     "library": "var_list.r",
     "varRefreshCmd": "cat(var_dic_list()) "
    }
   },
   "types_to_exclude": [
    "module",
    "function",
    "builtin_function_or_method",
    "instance",
    "_Feature"
   ],
   "window_display": false
  }
 },
 "nbformat": 4,
 "nbformat_minor": 4
}
