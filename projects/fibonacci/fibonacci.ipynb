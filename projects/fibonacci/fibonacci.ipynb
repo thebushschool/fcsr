{
 "cells": [
  {
   "cell_type": "markdown",
   "id": "8fab3e7d-f5c5-4a1d-b4a5-fca52d977b65",
   "metadata": {},
   "source": [
    "# Fibonacci python notebook"
   ]
  },
  {
   "cell_type": "markdown",
   "id": "1b708de4",
   "metadata": {},
   "source": [
    "### Follow teacher instructions presented to create this notebook!"
   ]
  },
  {
   "cell_type": "code",
   "execution_count": null,
   "id": "8196bd47-8476-4915-8edd-8c0bc9c152c1",
   "metadata": {},
   "outputs": [
    {
     "name": "stdout",
     "output_type": "stream",
     "text": [
      "hello you!\n"
     ]
    }
   ],
   "source": [
    "# print hello\n",
    "print(\"hello you!\")"
   ]
  }
 ],
 "metadata": {
  "kernelspec": {
   "display_name": "Python 3",
   "language": "python",
   "name": "python3"
  },
  "language_info": {
   "codemirror_mode": {
    "name": "ipython",
    "version": 3
   },
   "file_extension": ".py",
   "mimetype": "text/x-python",
   "name": "python",
   "nbconvert_exporter": "python",
   "pygments_lexer": "ipython3",
   "version": "3.10.7 (v3.10.7:6cc6b13308, Sep  5 2022, 14:02:52) [Clang 13.0.0 (clang-1300.0.29.30)]"
  },
  "vscode": {
   "interpreter": {
    "hash": "aee8b7b246df8f9039afb4144a1f6fd8d2ca17a180786b69acc140d282b71a49"
   }
  }
 },
 "nbformat": 4,
 "nbformat_minor": 5
}
