{
 "cells": [
  {
   "cell_type": "markdown",
   "id": "8fab3e7d-f5c5-4a1d-b4a5-fca52d977b65",
   "metadata": {},
   "source": [
    "# Fibonacci python notebook"
   ]
  },
  {
   "cell_type": "markdown",
   "id": "1b708de4",
   "metadata": {},
   "source": [
    "### Follow teacher instructions presented to create this notebook!"
   ]
  },
  {
   "cell_type": "code",
   "execution_count": null,
   "id": "8196bd47-8476-4915-8edd-8c0bc9c152c1",
   "metadata": {},
   "outputs": [
    {
     "name": "stdout",
     "output_type": "stream",
     "text": [
      "hello you!\n"
     ]
    }
   ],
   "source": [
    "# print hello\n",
    "print(\"hello you!\")"
   ]
  },
  {
   "cell_type": "markdown",
   "id": "66ff9865-5d4a-4eab-9184-3626da660951",
   "metadata": {},
   "source": [
    "### Python Functions"
   ]
  },
  {
   "cell_type": "code",
   "execution_count": null,
   "id": "8e1b286c-674c-4fc1-8fc5-6a4b122d2386",
   "metadata": {},
   "outputs": [],
   "source": [
    "def fibo(n):\n",
    "    #\n",
    "    #\n",
    "    return 99;"
   ]
  },
  {
   "cell_type": "markdown",
   "id": "0dfdd598-c294-4a6f-acef-734262ebf7cc",
   "metadata": {},
   "source": [
    "### Main Fibonacci Sequence Code"
   ]
  },
  {
   "cell_type": "code",
   "execution_count": null,
   "id": "bbe1874d-488c-475a-9f45-2f651ef4279d",
   "metadata": {},
   "outputs": [],
   "source": [
    "## Write your code here\n"
   ]
  }
 ],
 "metadata": {
  "kernelspec": {
   "display_name": "Python 3 (ipykernel)",
   "language": "python",
   "name": "python3"
  },
  "language_info": {
   "codemirror_mode": {
    "name": "ipython",
    "version": 3
   },
   "file_extension": ".py",
   "mimetype": "text/x-python",
   "name": "python",
   "nbconvert_exporter": "python",
   "pygments_lexer": "ipython3",
   "version": "3.9.13"
  },
  "vscode": {
   "interpreter": {
    "hash": "aee8b7b246df8f9039afb4144a1f6fd8d2ca17a180786b69acc140d282b71a49"
   }
  }
 },
 "nbformat": 4,
 "nbformat_minor": 5
}
