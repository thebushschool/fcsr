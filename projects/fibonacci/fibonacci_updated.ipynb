{
 "cells": [
  {
   "cell_type": "markdown",
   "id": "8fab3e7d-f5c5-4a1d-b4a5-fca52d977b65",
   "metadata": {},
   "source": [
    "# Fibonacci python notebook"
   ]
  },
  {
   "cell_type": "markdown",
   "id": "1b708de4",
   "metadata": {},
   "source": [
    "### Follow teacher instructions presented to create this notebook!"
   ]
  },
  {
   "cell_type": "markdown",
   "id": "8dab6f42-74bd-4e12-993a-4f77ab1c0c77",
   "metadata": {},
   "source": [
    "### Definition"
   ]
  },
  {
   "cell_type": "markdown",
   "id": "aacd1bf7-5911-42c8-8493-51f9fe410ba3",
   "metadata": {},
   "source": [
    "f(0) = 0\n",
    "\n",
    "f(1) = 1\n",
    "\n",
    "f(n) = f(n-1) + f(n-2) if n > 1"
   ]
  },
  {
   "cell_type": "markdown",
   "id": "66ff9865-5d4a-4eab-9184-3626da660951",
   "metadata": {},
   "source": [
    "### Python Functions"
   ]
  },
  {
   "cell_type": "code",
   "execution_count": 16,
   "id": "8e1b286c-674c-4fc1-8fc5-6a4b122d2386",
   "metadata": {},
   "outputs": [],
   "source": [
    "def fibo(n):\n",
    "    # This method prints the first n Fibonacci numbers, starting with 0.\n",
    "\n",
    "    # Step 1: validate the input (make sure n is non-negative).\n",
    "\n",
    "    # Step 2: handle the base case (n=0).\n",
    "\n",
    "    # Step 3: handle the rest (n>=1).\n"
   ]
  },
  {
   "cell_type": "markdown",
   "id": "0dfdd598-c294-4a6f-acef-734262ebf7cc",
   "metadata": {},
   "source": [
    "### Main Fibonacci Sequence Code"
   ]
  },
  {
   "cell_type": "code",
   "execution_count": 17,
   "id": "c4e45967-bbb2-43db-94b7-3e7fbfb7e215",
   "metadata": {},
   "outputs": [
    {
     "data": {
      "text/plain": [
       "0"
      ]
     },
     "execution_count": 17,
     "metadata": {},
     "output_type": "execute_result"
    }
   ],
   "source": [
    "fibo(-1)"
   ]
  },
  {
   "cell_type": "code",
   "execution_count": null,
   "id": "5729b42c-41e2-445d-8d06-71d58db543df",
   "metadata": {},
   "outputs": [],
   "source": []
  }
 ],
 "metadata": {
  "kernelspec": {
   "display_name": "Python 3 (ipykernel)",
   "language": "python",
   "name": "python3"
  },
  "language_info": {
   "codemirror_mode": {
    "name": "ipython",
    "version": 3
   },
   "file_extension": ".py",
   "mimetype": "text/x-python",
   "name": "python",
   "nbconvert_exporter": "python",
   "pygments_lexer": "ipython3",
   "version": "3.9.13"
  },
  "vscode": {
   "interpreter": {
    "hash": "aee8b7b246df8f9039afb4144a1f6fd8d2ca17a180786b69acc140d282b71a49"
   }
  }
 },
 "nbformat": 4,
 "nbformat_minor": 5
}
