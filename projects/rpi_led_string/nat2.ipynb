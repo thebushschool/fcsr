{
 "cells": [
  {
   "cell_type": "markdown",
   "id": "e3cd4bbe",
   "metadata": {},
   "source": [
    "## neopixel_advanced_testing - nat.ipynb\n",
    "### Authors: ?????"
   ]
  },
  {
   "cell_type": "markdown",
   "id": "2ea04a95",
   "metadata": {},
   "source": [
    "### PEGBOARD Markdown Block\n",
    "\n",
    "![pc](pixel_coordinates.png)"
   ]
  },
  {
   "cell_type": "markdown",
   "id": "f1485977",
   "metadata": {},
   "source": [
    "### Coordinate Transformation Block "
   ]
  },
  {
   "cell_type": "code",
   "execution_count": 1,
   "id": "9ce4c59c-bf64-4fa6-b0cd-4b57a46f4d58",
   "metadata": {
    "tags": []
   },
   "outputs": [],
   "source": [
    "# Specifying the origin and size of the pixel peg board\n",
    "\n",
    "num_pixels = 100   # 10x10 Matrix\n",
    "side = 10\n",
    "\n",
    "# Default Origin is top-left of pixel peg board\n",
    "rpx = 0  # top-left with +col going right\n",
    "cpx = 0  # top-left with +row going down\n",
    "\n",
    "def origin(loc):\n",
    "    global rpx\n",
    "    global cpx\n",
    "    if  loc == 'tl':     # top-left\n",
    "        rpx = 0              # top-left with +row going down\n",
    "        cpx = 0              # top-left with +col going right\n",
    "    elif  loc == 'bl':   # bot-left\n",
    "        rpx = side-1       # bot-left with +row going up\n",
    "        cpx = 0            # bot-left with +col going right\n",
    "    elif  loc == 'tr':   # top-right\n",
    "        rpx = 0            # top-right with +row going down\n",
    "        cpx = side-1       # top-right with +col going left\n",
    "    elif  loc == 'br':   # bot-right\n",
    "        rpx = side-1       # bot-right with +row going up\n",
    "        cpx = side-1       # bot-right with +col going left        \n",
    "    else:                # default top-left\n",
    "        rpx = 0            # top-left with +row going down\n",
    "        cpx = 0            # top-left with +col going right   "
   ]
  },
  {
   "cell_type": "code",
   "execution_count": 2,
   "id": "b5696187-d3f2-43bd-bd05-a540442de5c2",
   "metadata": {
    "tags": []
   },
   "outputs": [],
   "source": [
    "# Creating pixel conversion 2-D Array 10x10\n",
    "import math\n",
    "import numpy as np\n",
    "\n",
    "P = np.array([[90,91,92,93,94,95,96,97,98,99], \n",
    "              [89,88,87,86,85,84,83,82,81,80],\n",
    "              [70,71,72,73,74,75,76,77,78,79], \n",
    "              [69,68,67,66,65,64,63,62,61,60],\n",
    "              [50,51,52,53,54,55,56,57,58,59], \n",
    "              [49,48,47,46,45,44,43,42,41,40],\n",
    "              [30,31,32,33,34,35,36,37,38,39], \n",
    "              [29,28,27,26,25,24,23,22,21,20],\n",
    "              [10,11,12,13,14,15,16,17,18,19], \n",
    "              [ 9, 8, 7, 6, 5, 4, 3, 2, 1, 0]])  \n",
    "\n",
    "def pix10(r,c):  \n",
    "    return P[abs(rpx-r)][abs(cpx-c)]"
   ]
  },
  {
   "cell_type": "code",
   "execution_count": 3,
   "id": "4cbe29ca-6fc6-4f43-bb19-50ef1aeac9a5",
   "metadata": {
    "tags": []
   },
   "outputs": [],
   "source": [
    "# Creating pixel conversion 2-D Array 5x5 pixels\n",
    "import math\n",
    "import numpy as np\n",
    "\n",
    "Q = np.array([[24,23,22,21,20],\n",
    "              [15,16,17,18,19], \n",
    "              [14,13,12,11,10],\n",
    "              [ 5, 6, 7, 8, 9], \n",
    "              [ 4, 3, 2, 1, 0]])  \n",
    "\n",
    "def pix5(r,c):  \n",
    "    return Q[abs(rpx-r)][abs(cpx-c)]"
   ]
  },
  {
   "cell_type": "markdown",
   "id": "b3d35cf2",
   "metadata": {},
   "source": [
    "### Import Libraries Block"
   ]
  },
  {
   "cell_type": "code",
   "execution_count": 4,
   "id": "af93188e",
   "metadata": {
    "tags": []
   },
   "outputs": [],
   "source": [
    "#### IMPORT LIBRARIES Code Block\n",
    "import board\n",
    "import neopixel\n",
    "from time import sleep\n",
    "from sys import exit"
   ]
  },
  {
   "cell_type": "markdown",
   "id": "60395fd6",
   "metadata": {},
   "source": [
    "### Neopixel Setup Block"
   ]
  },
  {
   "cell_type": "code",
   "execution_count": 5,
   "id": "f13cac66",
   "metadata": {
    "tags": []
   },
   "outputs": [],
   "source": [
    "#### Neopixel Setup Block\n",
    "pixel_pin = board.D18\n",
    "ORDER = neopixel.RGB\n",
    "pixels = neopixel.NeoPixel(pixel_pin, num_pixels, \n",
    "                           brightness=1, auto_write=False,\n",
    "                           pixel_order=ORDER)"
   ]
  },
  {
   "cell_type": "markdown",
   "id": "7290f28c-6f5a-410c-8db3-517c798530e6",
   "metadata": {},
   "source": [
    "### Python Functions Block "
   ]
  },
  {
   "cell_type": "code",
   "execution_count": 6,
   "id": "e3b46c85-e5cc-4805-82d1-b441ba2fb8ed",
   "metadata": {
    "tags": []
   },
   "outputs": [],
   "source": [
    "def reset():       # simply set leds off\n",
    "    for ii in range(num_pixels):\n",
    "        #pixels.fill((0,0,0))\n",
    "        pixels[ii]=((0,0,0))\n",
    "    pixels.show()\n",
    "    sleep(1)"
   ]
  },
  {
   "cell_type": "code",
   "execution_count": 7,
   "id": "d84962a4-fe49-480a-93f5-83ac317ba051",
   "metadata": {
    "tags": []
   },
   "outputs": [],
   "source": [
    "def initialize():   # set leds white-off\n",
    "    for ii in range(3):         # flash white 3-times\n",
    "        pixels.fill((0,0,0))\n",
    "        #print(pixels)\n",
    "        pixels.show()\n",
    "        sleep(0.1)\n",
    "        pixels.fill((255,255,255))\n",
    "        #print(pixels)\n",
    "        pixels.show()\n",
    "        sleep(0.1)\n",
    "    pixels.fill((0,0,0))\n",
    "    #print(pixels)\n",
    "    pixels.show()    "
   ]
  },
  {
   "cell_type": "code",
   "execution_count": 8,
   "id": "8ed6af04-7636-492d-9170-806293412335",
   "metadata": {
    "tags": []
   },
   "outputs": [],
   "source": [
    "def allcolors():    # set leds red-green-blue-yellow-magenta-cyan\n",
    "    pixels.fill((0,0,0))\n",
    "    #print(pixels)\n",
    "    pixels.show()\n",
    "    sleep(1)\n",
    "    pixels.fill((255,0,0))\n",
    "    #print(pixels)\n",
    "    pixels.show()\n",
    "    sleep(1)\n",
    "    pixels.fill((0,255,0))\n",
    "    #print(pixels)\n",
    "    pixels.show()\n",
    "    sleep(1)\n",
    "    pixels.fill((0,0,255))\n",
    "    #print(pixels)\n",
    "    pixels.show()\n",
    "    sleep(1)\n",
    "    pixels.fill((255,255,0))\n",
    "    #print(pixels)\n",
    "    pixels.show()\n",
    "    sleep(1)\n",
    "    pixels.fill((255,0,255))\n",
    "    #print(pixels)\n",
    "    pixels.show()\n",
    "    sleep(1)\n",
    "    pixels.fill((0,255,255))\n",
    "    #print(pixels)\n",
    "    pixels.show()\n",
    "    sleep(1)\n",
    "    pixels.fill((0,0,0))\n",
    "    #print(pixels)\n",
    "    pixels.show()\n",
    "    sleep(1)"
   ]
  },
  {
   "cell_type": "code",
   "execution_count": 9,
   "id": "e5c0355a-a266-41e8-9435-61bd04279002",
   "metadata": {
    "tags": []
   },
   "outputs": [],
   "source": [
    "def finish():\n",
    "    sleep(1)\n",
    "    for ii in range(3):         # flash cyan 3-times\n",
    "        pixels.fill((0,0,0))\n",
    "        #print(pixels)\n",
    "        pixels.show()\n",
    "        sleep(0.1)\n",
    "        pixels.fill((0,255,255))\n",
    "        #print(pixels)\n",
    "        pixels.show()\n",
    "        sleep(0.1)    \n",
    "    pixels.fill((0,0,0))\n",
    "    #print(pixels)\n",
    "    pixels.show()        "
   ]
  },
  {
   "cell_type": "code",
   "execution_count": 10,
   "id": "94212a1e-1e34-49d7-a28c-d563c16ae3a2",
   "metadata": {
    "tags": []
   },
   "outputs": [],
   "source": [
    "def travel():\n",
    "    for ii in range(3):             # start 3-white flashes in first pixel then turn it green\n",
    "        pixels[0]=((0,0,0))\n",
    "        pixels.show()\n",
    "        sleep(0.1)\n",
    "        pixels[0]=((255,255,255))\n",
    "        pixels.show()\n",
    "        sleep(0.1)\n",
    "    pixels[0]=((0,255,0))\n",
    "    pixels.show()\n",
    "    sleep(0.1)\n",
    "\n",
    "    for ii in range(num_pixels):    # running cyan through entire strip\n",
    "        if ii > 1:                  # turn off previous - turn on current to red\n",
    "            pixels[ii-1]=((0,0,0))\n",
    "            pixels[ii]=((255,0,0))\n",
    "        if ii > int(num_pixels/2):  # Turn middle pixel only green \n",
    "            pixels[int(num_pixels/2)]=((0,255,0)) \n",
    "        pixels.show()\n",
    "        sleep(0.1)    \n",
    "\n",
    "    for ii in range(3):             # end 3-magenta flashes in last pixel then green\n",
    "        pixels[num_pixels-1]=((0,0,0))\n",
    "        pixels.show()\n",
    "        sleep(0.1)        \n",
    "        pixels[num_pixels-1]=((255,0,255))\n",
    "        pixels.show()\n",
    "        sleep(0.1)\n",
    "        \n",
    "    #pixels[num_pixels-1]=((0,255,0)) # Last pixel broken in chandru's pixel board\n",
    "    pixels[num_pixels-2]=((0,255,0))  # Using 99th pixel (index 98) instead!\n",
    "    pixels.show()\n",
    "    sleep(1)    \n",
    "    pixels.fill((0,0,0))\n",
    "    pixels.show()\n",
    "    sleep(0.1)     "
   ]
  },
  {
   "cell_type": "code",
   "execution_count": 11,
   "id": "8afd6284-118b-4ad0-ae51-2ae7a2e2610b",
   "metadata": {
    "tags": []
   },
   "outputs": [],
   "source": [
    "def fill_matrix(c):\n",
    "    for row in range(0,side):\n",
    "        for col in range(0,side):\n",
    "            pixn = pix10(row,col)\n",
    "            pixels[pixn] = ((c[0],c[1],c[2]))\n",
    "        pixels.show()\n",
    "        sleep(0.2)"
   ]
  },
  {
   "cell_type": "code",
   "execution_count": 12,
   "id": "f677c425-6976-4be9-8e8a-5155ea61c8a0",
   "metadata": {},
   "outputs": [],
   "source": [
    "def move_col_right_and_left(c):\n",
    "    for col in range(0,side):\n",
    "        for row in range(0,side):\n",
    "            pixn = pix10(row,col)\n",
    "            pixels[pixn] = ((c[0],c[1],c[2]))\n",
    "            if col > 0:\n",
    "                pixn = pix10(row,col-1)\n",
    "                pixels[pixn] = ((0,0,0))\n",
    "        pixels.show()\n",
    "        sleep(0.2)    \n",
    "    reset()\n",
    "    for col in range(side-1,-1,-1):\n",
    "        for row in range(0,side):\n",
    "            pixn = pix10(row,col)\n",
    "            pixels[pixn] = ((c[0],c[1],c[2]))\n",
    "            if col < side-1:\n",
    "                pixn = pix10(row,col+1)\n",
    "                pixels[pixn] = ((0,0,0))\n",
    "        pixels.show()\n",
    "        sleep(0.2)\n",
    "    reset()"
   ]
  },
  {
   "cell_type": "code",
   "execution_count": 13,
   "id": "d2b087b8-164c-4785-9f00-109f57a9ff61",
   "metadata": {},
   "outputs": [],
   "source": [
    "def move_row_down_and_up(c):\n",
    "    for row in range(0,side):\n",
    "        for col in range(0,side):\n",
    "            pixn = pix10(row,col)\n",
    "            pixels[pixn] = ((c[0],c[1],c[2]))\n",
    "            if row > 0:\n",
    "                pixn = pix10(row-1,col)\n",
    "                pixels[pixn] = ((0,0,0))\n",
    "        pixels.show()\n",
    "        sleep(0.2)    \n",
    "    reset()\n",
    "    for row in range(side-1,-1,-1):\n",
    "        for col in range(0,side):\n",
    "            pixn = pix10(row,col)\n",
    "            pixels[pixn] = ((c[0],c[1],c[2]))\n",
    "            if row < side-1:\n",
    "                pixn = pix10(row+1,col)\n",
    "                pixels[pixn] = ((0,0,0))\n",
    "        pixels.show()\n",
    "        sleep(0.2)\n",
    "    reset()"
   ]
  },
  {
   "cell_type": "code",
   "execution_count": 14,
   "id": "737dc5a9-75a5-4392-ba15-0d6b787889c7",
   "metadata": {},
   "outputs": [],
   "source": [
    "def move_pattern_left():\n",
    "    # swapping pixels with left col\n",
    "    for row in range(0,side):\n",
    "        for col in range(0,side-1):\n",
    "            temp = pixels[pix10(row,col)]\n",
    "            pixels[pix10(row,col)] = pixels[pix10(row,col+1)]\n",
    "            pixels[pix10(row,col+1)] = temp\n",
    "    pixels.show()\n",
    "    sleep(0.3)"
   ]
  },
  {
   "cell_type": "code",
   "execution_count": 15,
   "id": "d58598ff-755c-468b-8884-73cf151aa75f",
   "metadata": {},
   "outputs": [],
   "source": [
    "def move_pattern_up():\n",
    "    # swapping pixels with right col\n",
    "    for row in range(0,side-1):\n",
    "        for col in range(0,side):\n",
    "            temp = pixels[pix10(row,col)]\n",
    "            pixels[pix10(row,col)] = pixels[pix10(row+1,col)]\n",
    "            pixels[pix10(row+1,col)] = temp\n",
    "    pixels.show()\n",
    "    sleep(0.3)"
   ]
  },
  {
   "cell_type": "code",
   "execution_count": 16,
   "id": "74f4921d-5adc-4dee-96da-562b9ad24932",
   "metadata": {},
   "outputs": [],
   "source": [
    "def draw_rect(c):\n",
    "    # Draw top row of rect L_to_R\n",
    "    row = 2\n",
    "    for col in 2, 3, 4, 5:\n",
    "        pixn = pix10(row,col)\n",
    "        pixels[pixn] = ((c[0],c[1],c[2]))\n",
    "        pixels.show()\n",
    "        sleep(0.3)\n",
    "\n",
    "    # Draw right col of rect T_to_R\n",
    "    for row in 3, 4:\n",
    "        pixn = pix10(row,col)\n",
    "        pixels[pixn] = ((c[0],c[1],c[2]))\n",
    "        pixels.show()\n",
    "        sleep(0.3)   \n",
    "\n",
    "    # Draw bot row of rect R_to_L\n",
    "    for col in 4, 3, 2:\n",
    "        pixn = pix10(row,col)\n",
    "        pixels[pixn] = ((c[0],c[1],c[2]))\n",
    "        pixels.show()\n",
    "        sleep(0.3)  \n",
    "\n",
    "    # Draw left col of rect B_to_T\n",
    "    pixn = pix10(3,2)\n",
    "    pixels[pixn] = ((c[0],c[1],c[2]))\n",
    "    pixels.show()\n",
    "    sleep(0.3)\n",
    "\n",
    "    # Fill middle of rect L_to_R\n",
    "    row = 3\n",
    "    for col in 3, 4:\n",
    "        pixn = pix10(row,col)\n",
    "        pixels[pixn] = ((0,255,255))\n",
    "        pixels.show()\n",
    "        sleep(0.3)      "
   ]
  },
  {
   "cell_type": "code",
   "execution_count": 17,
   "id": "ed3b2422-60e1-4a71-b157-98470f85033d",
   "metadata": {},
   "outputs": [],
   "source": [
    "def draw_redcross(c):\n",
    "    col = 5\n",
    "    for row in 5, 6, 7, 8, 9:\n",
    "        pixn = pix10(row,col)\n",
    "        pixels[pixn] = ((c[0],c[1],c[2]))\n",
    "        pixels.show()\n",
    "        sleep(0.3)\n",
    "    row = 7\n",
    "    for col in 3, 4, 5, 6, 7:\n",
    "        pixn = pix10(row,col)\n",
    "        pixels[pixn] = ((c[0],c[1],c[2]))\n",
    "        pixels.show()\n",
    "        sleep(0.3)    "
   ]
  },
  {
   "cell_type": "markdown",
   "id": "72510a28",
   "metadata": {},
   "source": [
    "### Main Code Block"
   ]
  },
  {
   "cell_type": "code",
   "execution_count": 18,
   "id": "11506176-b56b-492f-8c72-e1b1a01331da",
   "metadata": {
    "tags": []
   },
   "outputs": [],
   "source": [
    "#### MAIN LOOP Code Block\n",
    "origin('tl')     # Set origin to top-left of peg board\n",
    "reset()\n",
    "initialize()\n",
    "allcolors()\n",
    "travel()"
   ]
  },
  {
   "cell_type": "code",
   "execution_count": 19,
   "id": "92b53f53-9a37-433f-bc2f-5148caa3d824",
   "metadata": {
    "tags": []
   },
   "outputs": [],
   "source": [
    "# Example of using transformed coordinates top-left\n",
    "origin('tl')     # Set origin to top-left of peg board\n",
    "clr = (255, 0, 255)\n",
    "fill_matrix(clr)   # from top-left\n",
    "reset()\n",
    "\n",
    "# Example of using transformed coordinates bot-left\n",
    "origin('bl')    # Set origin to bot-left of peg board\n",
    "clr = (255, 0, 0)\n",
    "fill_matrix(clr)  # from bot-left\n",
    "reset()\n",
    "\n",
    "# Example of moving column and row\n",
    "origin('tl')     # Set origin to top-left of peg board\n",
    "clr = (255, 255, 0)\n",
    "move_col_right_and_left(clr)\n",
    "clr = (0, 0, 255)\n",
    "move_row_down_and_up(clr)\n",
    "reset()"
   ]
  },
  {
   "cell_type": "code",
   "execution_count": 20,
   "id": "b4e9bab0-8c17-4e8e-8001-8743a6264ab0",
   "metadata": {},
   "outputs": [],
   "source": [
    "# Example of drawing a filled rectangle\n",
    "clr = (255,0,255)\n",
    "origin('tl')     # Set origin to top-left of peg board\n",
    "reset()\n",
    "draw_rect(clr)"
   ]
  },
  {
   "cell_type": "code",
   "execution_count": 21,
   "id": "8f5925a4-2612-4bef-acbd-1fc0ccc69cb1",
   "metadata": {},
   "outputs": [],
   "source": [
    "# Example of drawing a red cross\n",
    "clr = (255,0,0)\n",
    "origin('tl')     # Set origin to top-left of peg board\n",
    "draw_redcross(clr)"
   ]
  },
  {
   "cell_type": "code",
   "execution_count": 22,
   "id": "de964c8b-5a41-4d7b-b225-a3781ae3ee50",
   "metadata": {},
   "outputs": [],
   "source": [
    "# Example of an existing pixel pattern left 10 times\n",
    "origin('tl')     # Set origin to top-left of peg board\n",
    "for i in range(0, side):\n",
    "    move_pattern_left()"
   ]
  },
  {
   "cell_type": "code",
   "execution_count": 23,
   "id": "02935355-e860-4eda-842b-7470e93bd449",
   "metadata": {},
   "outputs": [],
   "source": [
    "# Example of an existing pixel pattern up 10 times\n",
    "origin('tl')     # Set origin to top-left of peg board\n",
    "for i in range(0, side):\n",
    "    move_pattern_up()"
   ]
  },
  {
   "cell_type": "code",
   "execution_count": 24,
   "id": "60786402-def6-46b0-bdd0-0c62d1bb515a",
   "metadata": {
    "tags": []
   },
   "outputs": [],
   "source": [
    "#### Finish up!\n",
    "finish()\n",
    "reset()"
   ]
  },
  {
   "cell_type": "code",
   "execution_count": null,
   "id": "9569f76e-fec8-4ba8-abdb-3b05dc09fe81",
   "metadata": {},
   "outputs": [],
   "source": []
  },
  {
   "cell_type": "code",
   "execution_count": null,
   "id": "7094addc-f738-4573-b235-a9426558ac88",
   "metadata": {},
   "outputs": [],
   "source": []
  }
 ],
 "metadata": {
  "kernelspec": {
   "display_name": "Python 3 (ipykernel)",
   "language": "python",
   "name": "python3"
  },
  "language_info": {
   "codemirror_mode": {
    "name": "ipython",
    "version": 3
   },
   "file_extension": ".py",
   "mimetype": "text/x-python",
   "name": "python",
   "nbconvert_exporter": "python",
   "pygments_lexer": "ipython3",
   "version": "3.11.2"
  }
 },
 "nbformat": 4,
 "nbformat_minor": 5
}
