{
 "cells": [
  {
   "cell_type": "markdown",
   "id": "34e86b35-9e3e-4731-8fa0-7158d97a776c",
   "metadata": {},
   "source": [
    "## Display A Scatter Plot to the Pixel Board\n",
    "### display_scatter_plot_to_pixelboard.ipynb"
   ]
  },
  {
   "cell_type": "markdown",
   "id": "cc36dfd6-63b4-4716-ac56-fc7f4e0bf0fd",
   "metadata": {
    "tags": []
   },
   "source": [
    "### PIXEL BOARD Block\n",
    "\n",
    "![pc](pixel_coordinates.png)"
   ]
  },
  {
   "cell_type": "markdown",
   "id": "6177669a-e7b0-4ab7-bf6c-cefe91c23840",
   "metadata": {
    "tags": []
   },
   "source": [
    "### Coordinate Transformation Block "
   ]
  },
  {
   "cell_type": "code",
   "execution_count": 1,
   "id": "09af5cb8-52cd-4d14-971a-acc7a6b8ede1",
   "metadata": {
    "tags": []
   },
   "outputs": [],
   "source": [
    "# Specifying the origin and size of the pixel peg board\n",
    "\n",
    "num_pixels = 100   # 10x10 Matrix\n",
    "side = 10\n",
    "scale = 1\n",
    "xoff = 0\n",
    "yoff = side-1\n",
    "\n",
    "# Default Origin is top-left of pixel peg board\n",
    "rpx = 0  # top-left with +col going right\n",
    "cpx = 0  # top-left with +row going down\n",
    "\n",
    "def origin(loc):\n",
    "    global rpx\n",
    "    global cpx\n",
    "    if  loc == 'tl':     # top-left\n",
    "        rpx = 0              # top-left with +row going down\n",
    "        cpx = 0              # top-left with +col going right\n",
    "    elif  loc == 'bl':   # bot-left\n",
    "        rpx = side-1       # bot-left with +row going up\n",
    "        cpx = 0            # bot-left with +col going right\n",
    "    elif  loc == 'tr':   # top-right\n",
    "        rpx = 0            # top-right with +row going down\n",
    "        cpx = side-1       # top-right with +col going left\n",
    "    elif  loc == 'br':   # bot-right\n",
    "        rpx = side-1       # bot-right with +row going up\n",
    "        cpx = side-1       # bot-right with +col going left        \n",
    "    else:                # default top-left\n",
    "        rpx = 0            # top-left with +row going down\n",
    "        cpx = 0            # top-left with +col going right   "
   ]
  },
  {
   "cell_type": "code",
   "execution_count": 2,
   "id": "9af7ccc8-d165-48bc-bb18-a82abe24ec3f",
   "metadata": {
    "tags": []
   },
   "outputs": [],
   "source": [
    "# Creating pixel conversion 2-D Array 10x10\n",
    "import math\n",
    "import numpy as np\n",
    "\n",
    "P = np.array([[90,91,92,93,94,95,96,97,98,99], \n",
    "              [89,88,87,86,85,84,83,82,81,80],\n",
    "              [70,71,72,73,74,75,76,77,78,79], \n",
    "              [69,68,67,66,65,64,63,62,61,60],\n",
    "              [50,51,52,53,54,55,56,57,58,59], \n",
    "              [49,48,47,46,45,44,43,42,41,40],\n",
    "              [30,31,32,33,34,35,36,37,38,39], \n",
    "              [29,28,27,26,25,24,23,22,21,20],\n",
    "              [10,11,12,13,14,15,16,17,18,19], \n",
    "              [ 9, 8, 7, 6, 5, 4, 3, 2, 1, 0]])  \n",
    "\n",
    "def xypix(x,y):\n",
    "    res = 0\n",
    "    c = int(np.abs(scale*(x+xoff)))\n",
    "    r = int(np.abs(scale*(y-yoff)))    \n",
    "    #print(f'r = {r} c = {c}')\n",
    "    if r<side and r>=0 and c<side and c>=0:\n",
    "        res = P[r][c]\n",
    "    return res"
   ]
  },
  {
   "cell_type": "markdown",
   "id": "4789c0e5-fa60-4911-be9b-f07586398ba5",
   "metadata": {},
   "source": [
    "### Import Libraries Block"
   ]
  },
  {
   "cell_type": "code",
   "execution_count": 3,
   "id": "d153794a-10e1-43fd-9327-c38dc520279d",
   "metadata": {
    "tags": []
   },
   "outputs": [],
   "source": [
    "#### IMPORT LIBRARIES Code Block\n",
    "import board\n",
    "import neopixel\n",
    "from time import sleep\n",
    "from sys import exit"
   ]
  },
  {
   "cell_type": "markdown",
   "id": "75457d3e-95c9-47c3-a373-42c8f4f10bee",
   "metadata": {},
   "source": [
    "### Neopixel Setup Block"
   ]
  },
  {
   "cell_type": "code",
   "execution_count": 4,
   "id": "36290299-4bf9-4af3-a4b7-23382f1bc143",
   "metadata": {
    "tags": []
   },
   "outputs": [],
   "source": [
    "#### Neopixel Setup Block\n",
    "pixel_pin = board.D18\n",
    "ORDER = neopixel.RGB\n",
    "pixels = neopixel.NeoPixel(pixel_pin, num_pixels, \n",
    "                           brightness=0.1, auto_write=False,\n",
    "                           pixel_order=ORDER)"
   ]
  },
  {
   "cell_type": "markdown",
   "id": "b6d635f2-91bf-4280-9f24-318c2fcbc388",
   "metadata": {},
   "source": [
    "### Python Functions Block "
   ]
  },
  {
   "cell_type": "code",
   "execution_count": 5,
   "id": "fcc6bdbc-282f-4d31-ba0e-d3b2a9a80cb6",
   "metadata": {
    "tags": []
   },
   "outputs": [],
   "source": [
    "def reset():       # simply set leds off\n",
    "    for ii in range(num_pixels):\n",
    "        #pixels.fill((0,0,0))\n",
    "        pixels[ii]=((0,0,0))\n",
    "    pixels.show()\n",
    "    sleep(0.1)"
   ]
  },
  {
   "cell_type": "code",
   "execution_count": 6,
   "id": "932b038f-112a-4c60-b1be-6337db65c8a2",
   "metadata": {
    "tags": []
   },
   "outputs": [],
   "source": [
    "def initialize():   # set leds white-off\n",
    "    for ii in range(3):         # flash white 3-times\n",
    "        pixels.fill((0,0,0))\n",
    "        #print(pixels)\n",
    "        pixels.show()\n",
    "        sleep(0.1)\n",
    "        pixels.fill((255,255,255))\n",
    "        #print(pixels)\n",
    "        pixels.show()\n",
    "        sleep(0.1)\n",
    "    pixels.fill((0,0,0))\n",
    "    #print(pixels)\n",
    "    pixels.show()    "
   ]
  },
  {
   "cell_type": "code",
   "execution_count": 7,
   "id": "240fd50f-d833-43ef-88de-640908882cff",
   "metadata": {
    "tags": []
   },
   "outputs": [],
   "source": [
    "def allcolors():    # set leds red-green-blue-yellow-magenta-cyan\n",
    "    pixels.fill((0,0,0))\n",
    "    #print(pixels)\n",
    "    pixels.show()\n",
    "    sleep(1)\n",
    "    pixels.fill((255,0,0))\n",
    "    #print(pixels)\n",
    "    pixels.show()\n",
    "    sleep(1)\n",
    "    pixels.fill((0,255,0))\n",
    "    #print(pixels)\n",
    "    pixels.show()\n",
    "    sleep(1)\n",
    "    pixels.fill((0,0,255))\n",
    "    #print(pixels)\n",
    "    pixels.show()\n",
    "    sleep(1)\n",
    "    pixels.fill((255,255,0))\n",
    "    #print(pixels)\n",
    "    pixels.show()\n",
    "    sleep(1)\n",
    "    pixels.fill((255,0,255))\n",
    "    #print(pixels)\n",
    "    pixels.show()\n",
    "    sleep(1)\n",
    "    pixels.fill((0,255,255))\n",
    "    #print(pixels)\n",
    "    pixels.show()\n",
    "    sleep(1)\n",
    "    pixels.fill((0,0,0))\n",
    "    #print(pixels)\n",
    "    pixels.show()\n",
    "    sleep(1)"
   ]
  },
  {
   "cell_type": "code",
   "execution_count": 8,
   "id": "a92272e4-b4b2-4b03-bf4d-fe200f42899b",
   "metadata": {
    "tags": []
   },
   "outputs": [],
   "source": [
    "def finish():\n",
    "    for ii in range(3):         # flash cyan 3-times\n",
    "        pixels.fill((0,0,0))\n",
    "        #print(pixels)\n",
    "        pixels.show()\n",
    "        sleep(0.1)\n",
    "        pixels.fill((0,255,255))\n",
    "        #print(pixels)\n",
    "        pixels.show()\n",
    "        sleep(0.1)    \n",
    "    pixels.fill((0,0,0))\n",
    "    #print(pixels)\n",
    "    pixels.show()        "
   ]
  },
  {
   "cell_type": "code",
   "execution_count": 9,
   "id": "714f5ec6-29c2-47b0-a189-4908643f2c99",
   "metadata": {
    "tags": []
   },
   "outputs": [],
   "source": [
    "def travel():\n",
    "    for ii in range(3):             # start 3-white flashes in first pixel then turn it green\n",
    "        pixels[0]=((0,0,0))\n",
    "        pixels.show()\n",
    "        sleep(0.1)\n",
    "        pixels[0]=((255,255,255))\n",
    "        pixels.show()\n",
    "        sleep(0.1)\n",
    "    pixels[0]=((0,255,0))\n",
    "    pixels.show()\n",
    "    sleep(0.1)\n",
    "\n",
    "    for ii in range(num_pixels):    # running cyan through entire strip\n",
    "        if ii > 1:                  # turn off previous - turn on current to red\n",
    "            pixels[ii-1]=((0,0,0))\n",
    "            pixels[ii]=((255,0,0))\n",
    "        if ii > int(num_pixels/2):  # Turn middle pixel only green \n",
    "            pixels[int(num_pixels/2)]=((0,255,0)) \n",
    "        pixels.show()\n",
    "        sleep(0.1)    \n",
    "\n",
    "    for ii in range(3):             # end 3-magenta flashes in last pixel then green\n",
    "        pixels[num_pixels-1]=((0,0,0))\n",
    "        pixels.show()\n",
    "        sleep(0.1)        \n",
    "        pixels[num_pixels-1]=((255,0,255))\n",
    "        pixels.show()\n",
    "        sleep(0.1)\n",
    "        \n",
    "    pixels[num_pixels-1]=((0,255,0))\n",
    "    pixels.show()\n",
    "    sleep(1)    \n",
    "    pixels.fill((0,0,0))\n",
    "    pixels.show()\n",
    "    sleep(0.1)     "
   ]
  },
  {
   "cell_type": "code",
   "execution_count": 10,
   "id": "b40a73f8-3b4d-4b13-a5a7-8fe47e91356b",
   "metadata": {
    "tags": []
   },
   "outputs": [],
   "source": [
    "def fill_matrix(c):\n",
    "    for row in range(0,side):\n",
    "        for col in range(0,side):\n",
    "            pixn = pix10(row,col)\n",
    "            pixels[pixn] = ((c[0],c[1],c[2]))\n",
    "        pixels.show()\n",
    "        sleep(0.2)"
   ]
  },
  {
   "cell_type": "code",
   "execution_count": 11,
   "id": "66f92359-fc5c-4735-af53-5570b2807c3d",
   "metadata": {},
   "outputs": [],
   "source": [
    "def move_col(c):\n",
    "    for col in range(0,side):\n",
    "        for row in range(0,side):\n",
    "            pixn = pix10(row,col)\n",
    "            pixels[pixn] = ((c[0],c[1],c[2]))\n",
    "            if col > 0:\n",
    "                pixn = pix10(row,col-1)\n",
    "                pixels[pixn] = ((0,0,0))\n",
    "        pixels.show()\n",
    "        sleep(0.2)    \n",
    "    reset()\n",
    "    for col in range(side-1,-1,-1):\n",
    "        for row in range(0,side):\n",
    "            pixn = pix10(row,col)\n",
    "            pixels[pixn] = ((c[0],c[1],c[2]))\n",
    "            if col < side-1:\n",
    "                pixn = pix10(row,col+1)\n",
    "                pixels[pixn] = ((0,0,0))\n",
    "        pixels.show()\n",
    "        sleep(0.2)\n",
    "    reset()"
   ]
  },
  {
   "cell_type": "code",
   "execution_count": 12,
   "id": "bd572b0a-7cbb-4405-9693-614043642796",
   "metadata": {},
   "outputs": [],
   "source": [
    "def move_row(c):\n",
    "    for row in range(0,side):\n",
    "        for col in range(0,side):\n",
    "            pixn = pix10(row,col)\n",
    "            pixels[pixn] = ((c[0],c[1],c[2]))\n",
    "            if row > 0:\n",
    "                pixn = pix10(row-1,col)\n",
    "                pixels[pixn] = ((0,0,0))\n",
    "        pixels.show()\n",
    "        sleep(0.2)    \n",
    "    reset()\n",
    "    for row in range(side-1,-1,-1):\n",
    "        for col in range(0,side):\n",
    "            pixn = pix10(row,col)\n",
    "            pixels[pixn] = ((c[0],c[1],c[2]))\n",
    "            if row < side-1:\n",
    "                pixn = pix10(row+1,col)\n",
    "                pixels[pixn] = ((0,0,0))\n",
    "        pixels.show()\n",
    "        sleep(0.2)\n",
    "    reset()"
   ]
  },
  {
   "cell_type": "markdown",
   "id": "74279689-439f-4aff-9f18-c7af229a69b4",
   "metadata": {},
   "source": [
    "### Display Plot to Pixel Board Functions"
   ]
  },
  {
   "cell_type": "code",
   "execution_count": 13,
   "id": "96b109a3-c1cf-4d83-8402-308190554d4c",
   "metadata": {
    "tags": []
   },
   "outputs": [],
   "source": [
    "def plot_to_pixel(X,Y,C):\n",
    "    for ii in np.arange(0,num_pixels):\n",
    "        pixn = xypix(X[ii],Y[ii])\n",
    "        #print(f'X = {X[ii]} ,Y = {X[ii]}, pixn = {pixn}')\n",
    "        pixels[pixn] = (C[0],C[1],C[2])    "
   ]
  },
  {
   "cell_type": "code",
   "execution_count": 14,
   "id": "fc97e8b6-338e-4773-a097-5387217bbebf",
   "metadata": {
    "tags": []
   },
   "outputs": [],
   "source": [
    "def plot_to_pixel_animate(X,Y,C,T):\n",
    "    for ii in np.arange(0,num_pixels):\n",
    "        pixn = xypix(X[ii],Y[ii])\n",
    "        #print(f'X = {X[ii]} ,Y = {X[ii]}, pixn = {pixn}')\n",
    "        pixels[pixn] = (C[0],C[1],C[2])\n",
    "        pixels.show()\n",
    "        sleep(T)"
   ]
  },
  {
   "cell_type": "markdown",
   "id": "7f52de01-9e91-4981-8f32-aea17bf813da",
   "metadata": {},
   "source": [
    "### MATPLOTLIB Setup Block "
   ]
  },
  {
   "cell_type": "code",
   "execution_count": 19,
   "id": "44bbb3db-1edf-4e52-aa2f-e4fbf19e5905",
   "metadata": {},
   "outputs": [],
   "source": [
    "# Setup MATPLOTLIB PLOTS\n",
    "import random,math,time\n",
    "import matplotlib.pyplot as plt"
   ]
  },
  {
   "cell_type": "markdown",
   "id": "6d3174ad-a6f1-41ce-9dbc-d3f08961d758",
   "metadata": {},
   "source": [
    "### MAIN BLOCK - Plot Lines and Curves"
   ]
  },
  {
   "cell_type": "code",
   "execution_count": 20,
   "id": "134fb991-45b2-46cf-bc3c-813d1e5a5cbc",
   "metadata": {
    "tags": []
   },
   "outputs": [
    {
     "data": {
      "text/plain": [
       "<matplotlib.collections.PathCollection at 0x7f63670410>"
      ]
     },
     "execution_count": 20,
     "metadata": {},
     "output_type": "execute_result"
    },
    {
     "data": {
      "image/png": "[encoded data removed]",
      "text/plain": [
       "<Figure size 640x480 with 1 Axes>"
      ]
     },
     "metadata": {},
     "output_type": "display_data"
    }
   ],
   "source": [
    "# setup plot\n",
    "start_time = time.time()\n",
    "fig, axs = plt.subplots(1)\n",
    "plt.margins(0.005, tight=True)\n",
    "axs.set_aspect(1)\n",
    "xv = np.linspace(0, side-1, num_pixels)\n",
    "yv = np.linspace(0, side-1, num_pixels)\n",
    "axs.plot(xv,yv, linestyle=\"None\")\n",
    "\n",
    "# hoiz line\n",
    "xv1 = xv\n",
    "yv1 = np.repeat(5, num_pixels)\n",
    "axs.scatter(xv1,yv1)\n",
    "\n",
    "# hoiz line\n",
    "xv2 = xv\n",
    "yv2 = np.repeat(3, num_pixels)\n",
    "axs.scatter(xv2,yv2)\n",
    "\n",
    "# vert line\n",
    "xv3 = np.repeat(7, num_pixels)\n",
    "yv3 = np.linspace(0, side-1, num_pixels)\n",
    "axs.scatter(xv3,yv3)\n",
    "\n",
    "# A sine curve\n",
    "theta = np.linspace(0, np.pi, num_pixels)\n",
    "radius = 4\n",
    "xv4 = np.linspace(0, side-1, num_pixels)\n",
    "yv4 = radius * np.sin(theta)\n",
    "axs.scatter(xv4,yv4)"
   ]
  },
  {
   "cell_type": "markdown",
   "id": "94fc8069-6bff-42fd-9a4b-93766b621d92",
   "metadata": {},
   "source": [
    "### MAIN BLOCK - Send Lines and Curves to Pixel Board"
   ]
  },
  {
   "cell_type": "code",
   "execution_count": 21,
   "id": "5eee7ff3-9cfb-42fd-bacd-da3eff562f1b",
   "metadata": {
    "tags": []
   },
   "outputs": [],
   "source": [
    "#### MAIN LOOP Code Block\n",
    "origin('tl')     # Set origin to top-left of pixel board\n",
    "reset()\n",
    "initialize()\n",
    "\n",
    "clr = ((255,0,255))\n",
    "plot_to_pixel(xv1,yv1,clr)\n",
    "\n",
    "clr = ((0,0,255))\n",
    "plot_to_pixel(xv2,yv2,clr)\n",
    "\n",
    "clr = ((0,255,255))\n",
    "plot_to_pixel_animate(xv3,yv3,clr,0.01)\n",
    "\n",
    "clr = ((255,0,0))\n",
    "plot_to_pixel_animate(xv4,yv4,clr,0.01)\n",
    "\n",
    "#allcolors()\n",
    "#travel()\n"
   ]
  },
  {
   "cell_type": "code",
   "execution_count": 23,
   "id": "fbfd45c9-2022-42ed-a0c8-f2d52469a58b",
   "metadata": {
    "tags": []
   },
   "outputs": [],
   "source": [
    "reset()"
   ]
  },
  {
   "cell_type": "markdown",
   "id": "11e9fe53-f708-45b5-975b-288625fd4a2b",
   "metadata": {},
   "source": [
    "### MAIN BLOCK - Plot Circles & Ellipses"
   ]
  },
  {
   "attachments": {},
   "cell_type": "markdown",
   "id": "40afa940-f5e1-4270-b5e4-3f554e277568",
   "metadata": {
    "tags": []
   },
   "source": [
    "### Create Many Line & Scatter Plots of Independent (Parametric) Variables\n",
    "1. A Circle:   $x = r \\ \\cos \\ \\theta$ and $y = r \\ \\sin \\ \\theta$ where $r$ is radius\n",
    "1. An Ellipse: $x = a \\ \\cos \\ \\theta$ and $y = b \\ \\sin \\ \\theta$ where $a$ is semi-major axis and $b$ is semi-minor axis \n",
    "\n",
    "r = 5 # radius\n",
    "t = np.linspace(0, 2*np.pi, 100)\n",
    "def xval(t):\n",
    "    return r * np.cos(t)\n",
    "def yval(t):\n",
    "    return r * np.sin(t)"
   ]
  },
  {
   "cell_type": "code",
   "execution_count": 48,
   "id": "57b7093f-f22e-4796-9785-c66fa74f3915",
   "metadata": {},
   "outputs": [
    {
     "data": {
      "text/plain": [
       "[<matplotlib.lines.Line2D at 0x7f631b1810>]"
      ]
     },
     "execution_count": 48,
     "metadata": {},
     "output_type": "execute_result"
    },
    {
     "data": {
      "image/png": "[encoded data removed]",
      "text/plain": [
       "<Figure size 640x480 with 1 Axes>"
      ]
     },
     "metadata": {},
     "output_type": "display_data"
    }
   ],
   "source": [
    "a = 2 # semi-major axis\n",
    "b = 2 # semi-minor axis\n",
    "c = (a**2-b**2)**0.5 # semi-focal distance\n",
    "e = c/a # eccentricity\n",
    "t = np.linspace(0, 2*np.pi, 100)\n",
    "def xval(t):\n",
    "    return a * np.cos(t) + 4\n",
    "def yval(t):\n",
    "    return b * np.sin(t) + 4\n",
    "xv1 = xval(t)\n",
    "yv1 = yval(t)\n",
    "plt.margins(0.005, tight=True)\n",
    "plt.gca().set_aspect('equal')\n",
    "plt.plot(xv1,yv1)\n",
    "#plt.title(\"A Circle\")\n",
    "#plt.xlabel(\"$x = r \\ \\cos \\ \\\\theta$\")\n",
    "#plt.ylabel(\"$y = r \\ \\sin \\ \\\\theta$\")\n",
    "#plt.scatter(0+4,0+4,marker='+',color='red')    "
   ]
  },
  {
   "cell_type": "markdown",
   "id": "b29ffcd1-2705-4c1c-aed0-960a2daca897",
   "metadata": {},
   "source": [
    "### MAIN BLOCK - Send Circles & Ellipses to Pixel Board"
   ]
  },
  {
   "cell_type": "code",
   "execution_count": 49,
   "id": "28098dec-1fde-4329-b117-edd7456c109f",
   "metadata": {
    "tags": []
   },
   "outputs": [],
   "source": [
    "#### MAIN LOOP Code Block\n",
    "origin('tl')     # Set origin to top-left of pixel board\n",
    "reset()\n",
    "initialize()\n",
    "\n",
    "clr = ((0,255,255))\n",
    "plot_to_pixel_animate(xv1,yv1,clr,0.01)\n",
    "\n",
    "#allcolors()\n",
    "#travel()\n"
   ]
  },
  {
   "cell_type": "code",
   "execution_count": null,
   "id": "1db75a1a-3d70-4c8a-91c6-d424a679dafe",
   "metadata": {
    "tags": []
   },
   "outputs": [],
   "source": [
    "reset()"
   ]
  },
  {
   "cell_type": "code",
   "execution_count": null,
   "id": "1ee45de3-de02-461c-a6a7-8369155d592e",
   "metadata": {},
   "outputs": [],
   "source": [
    "x = xval(t)\n",
    "y = yval(t)\n",
    "plt.gca().set_aspect('equal')\n",
    "plt.plot(x,y,color='black')\n",
    "plt.title(\"An Ellipse\")\n",
    "plt.xlabel(\"$x = r \\ \\cos \\ \\\\theta$\")\n",
    "plt.ylabel(\"$y = r \\ \\sin \\ \\\\theta$\")\n",
    "plt.scatter(-c,0,marker='o',color='orange',s=500)\n",
    "p = np.linspace(np.pi/2, 3*np.pi/2, 20)\n",
    "plt.scatter(xval(p),yval(p),marker='o',color='purple')\n",
    "plt.text(-2,0,\"Sun with a Planet in Elliptical Orbit!\")"
   ]
  }
 ],
 "metadata": {
  "kernelspec": {
   "display_name": "Python 3 (ipykernel)",
   "language": "python",
   "name": "python3"
  },
  "language_info": {
   "codemirror_mode": {
    "name": "ipython",
    "version": 3
   },
   "file_extension": ".py",
   "mimetype": "text/x-python",
   "name": "python",
   "nbconvert_exporter": "python",
   "pygments_lexer": "ipython3",
   "version": "3.11.2"
  }
 },
 "nbformat": 4,
 "nbformat_minor": 5
}
