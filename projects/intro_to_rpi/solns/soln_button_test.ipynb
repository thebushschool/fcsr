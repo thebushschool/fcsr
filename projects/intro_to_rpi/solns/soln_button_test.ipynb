{
 "cells": [
  {
   "cell_type": "markdown",
   "id": "f1c26ec1-486d-4274-a65b-45152b80574f",
   "metadata": {},
   "source": [
    "## button_test.ipynb\n",
    "### Authors: Double-click to edit and add your name here"
   ]
  },
  {
   "cell_type": "markdown",
   "id": "65fc64cc-4fb9-4465-aeaa-7953a1cf9404",
   "metadata": {},
   "source": [
    "##### WIRING DIAGRAM Markdown Block \n",
    "Double-click to edit\n",
    "\n",
    "***Add markdown statement here to hand-drawn wiring***\n",
    "\n",
    "***Add markdown statement here to add the image of your actual wired breadboard***"
   ]
  },
  {
   "cell_type": "code",
   "execution_count": null,
   "id": "560bee16-ea30-4673-93ce-6e34076bbdb3",
   "metadata": {
    "tags": []
   },
   "outputs": [],
   "source": [
    "#### IMPORT LIBRARIES Code Block\n",
    "from gpiozero import LED, Button\n",
    "from time import sleep\n",
    "from datetime import datetime"
   ]
  },
  {
   "cell_type": "code",
   "execution_count": null,
   "id": "eb631dcc-3cae-4b75-bc64-4f57eaa93b95",
   "metadata": {
    "tags": []
   },
   "outputs": [],
   "source": [
    "#### LED SETUP Code Block\n",
    "\n",
    "# LED setup\n",
    "gpio_ledpin = 4  # Connect LED long lead to GPIO4 other to GND\n",
    "led = LED(gpio_ledpin)  # Tell the led object that the pin is GPIO4"
   ]
  },
  {
   "cell_type": "code",
   "execution_count": null,
   "id": "457a32f7-6114-47e0-bf77-91ec5329f8fe",
   "metadata": {
    "tags": []
   },
   "outputs": [],
   "source": [
    "#### BUTTON SETUP Code Block\n",
    "\n",
    "# BUTTON setup\n",
    "\n",
    "# This is the Callback funtion when button is pressed\n",
    "# Each time it is pressed this function is called by the system\n",
    "def pressed(button):\n",
    "    current_time = datetime.now()\n",
    "    print(f'button {button.pin.number} was pressed @ {current_time}')\n",
    "# The Callback funtion ENDS HERE\n",
    "\n",
    "gpio_btnpin = 17  # Connect one Button lead to GPIO17 other to GND\n",
    "button = Button(gpio_btnpin) # Tell the button object that the pin is GPI17\n",
    "\n",
    "# 'pressed' is callback function above\n",
    "# 'button.when_pressed' is the event it reacts to\n",
    "button.when_pressed = pressed"
   ]
  },
  {
   "cell_type": "code",
   "execution_count": null,
   "id": "5780161b-fddb-4c44-bfe7-296a1594aa77",
   "metadata": {
    "tags": []
   },
   "outputs": [],
   "source": [
    "#### MAIN LOOP Code Block\n",
    "\n",
    "# MAIN loop\n",
    "while True:     # Do this loop forever!\n",
    "    led.on()    # Turn on LED\n",
    "    sleep(0.5)  # Sleep half-second\n",
    "    led.off()   # Turn off LED\n",
    "    sleep(0.5)  # Sleep half-second"
   ]
  },
  {
   "cell_type": "code",
   "execution_count": null,
   "id": "d11bdd10-431d-4bf3-ab84-23999df44a20",
   "metadata": {},
   "outputs": [],
   "source": []
  }
 ],
 "metadata": {
  "kernelspec": {
   "display_name": "Python 3 (ipykernel)",
   "language": "python",
   "name": "python3"
  },
  "language_info": {
   "codemirror_mode": {
    "name": "ipython",
    "version": 3
   },
   "file_extension": ".py",
   "mimetype": "text/x-python",
   "name": "python",
   "nbconvert_exporter": "python",
   "pygments_lexer": "ipython3",
   "version": "3.11.2"
  }
 },
 "nbformat": 4,
 "nbformat_minor": 5
}
