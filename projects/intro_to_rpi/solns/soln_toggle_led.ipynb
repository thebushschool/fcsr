{
 "cells": [
  {
   "cell_type": "markdown",
   "id": "0f0974cb-f762-4bee-9333-560636cca476",
   "metadata": {},
   "source": [
    "## toggle_led.ipynb\n",
    "### Authors: Double-click to edit and add your name here"
   ]
  },
  {
   "cell_type": "markdown",
   "id": "a89dd851-eb95-4a8a-b35a-bf8fafeccfae",
   "metadata": {
    "tags": []
   },
   "source": [
    "##### WIRING DIAGRAM Markdown Block\n",
    "***Add markdown statement here to hand-drawn wiring***\n",
    "\n",
    "***Add markdown statement here to add the image of your actual wired breadboard***"
   ]
  },
  {
   "cell_type": "code",
   "execution_count": null,
   "id": "bdfee02b-a07c-48b9-a0f3-d000ed5f294c",
   "metadata": {
    "tags": []
   },
   "outputs": [],
   "source": [
    "#### IMPORT LIBRARIES Code Block\n",
    "from gpiozero import LED, Button\n",
    "from time import sleep\n",
    "from datetime import datetime"
   ]
  },
  {
   "cell_type": "code",
   "execution_count": null,
   "id": "f97dc8b9-744e-49cb-af77-79f1ae71ad4b",
   "metadata": {
    "tags": []
   },
   "outputs": [],
   "source": [
    "#### LED SETUP Code Block\n",
    "\n",
    "# led setup\n",
    "ledpin = 4    # Connect LED long lead to GPIO4 other to GND\n",
    "led = LED(ledpin)  # Tell the led object that the pin is GPIO4"
   ]
  },
  {
   "cell_type": "code",
   "execution_count": null,
   "id": "82f23341-1676-432c-852c-0bc73f10b671",
   "metadata": {
    "tags": []
   },
   "outputs": [],
   "source": [
    "#### BUTTON SETUP Code Block\n",
    "\n",
    "# Button setup\n",
    "\n",
    "# This is the Callback funtion when button is pressed\n",
    "# Each time it is pressed this function is called by the system\n",
    "def pressed(button):\n",
    "    global button_state  # Setup to access GLOBAL button_state\n",
    "    current_time = datetime.now()\n",
    "    print(f'button {button.pin.number} was pressed @ {current_time}')\n",
    "    # This is the statement that toggles button_state between True & False!\n",
    "    button_state = not button_state  \n",
    "# The Callback funtion ENDS HERE\n",
    "\n",
    "btnpin = 17  # Connect LED long lead to GPIO21 other to GND\n",
    "button = Button(btnpin)  # Tell the button object that the pin is GPIO21\n",
    "\n",
    "# 'pressed' is callback function above\n",
    "# 'button.when_pressed' is the event it reacts to\n",
    "button.when_pressed = pressed\n",
    "button_state = True"
   ]
  },
  {
   "cell_type": "code",
   "execution_count": null,
   "id": "5780161b-fddb-4c44-bfe7-296a1594aa77",
   "metadata": {
    "tags": []
   },
   "outputs": [],
   "source": [
    "#### MAIN LOOP Code Block\n",
    "\n",
    "# main loop\n",
    "while True:   # Loop forevr!\n",
    "    ### Change the code below to turn on led\n",
    "    ### inside a if statement branching on button_state\n",
    "    #led.on()    # Turn on LED\n",
    "    #sleep(0.5)  # Sleep half-second\n",
    "    #led.off()   # Turn off LED\n",
    "    #sleep(0.5)  # Sleep half-second\n",
    "    if button_state:\n",
    "      # led on ..\n",
    "      led.on()\n",
    "    else:\n",
    "      # led off ..\n",
    "      led.off()"
   ]
  },
  {
   "cell_type": "code",
   "execution_count": null,
   "id": "d11bdd10-431d-4bf3-ab84-23999df44a20",
   "metadata": {},
   "outputs": [],
   "source": []
  }
 ],
 "metadata": {
  "kernelspec": {
   "display_name": "Python 3 (ipykernel)",
   "language": "python",
   "name": "python3"
  },
  "language_info": {
   "codemirror_mode": {
    "name": "ipython",
    "version": 3
   },
   "file_extension": ".py",
   "mimetype": "text/x-python",
   "name": "python",
   "nbconvert_exporter": "python",
   "pygments_lexer": "ipython3",
   "version": "3.11.2"
  }
 },
 "nbformat": 4,
 "nbformat_minor": 5
}
