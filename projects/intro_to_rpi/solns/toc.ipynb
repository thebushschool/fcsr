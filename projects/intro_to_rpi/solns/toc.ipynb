{
 "cells": [
  {
   "cell_type": "markdown",
   "metadata": {},
   "source": [
    "1. [soln_first_notebook](soln_first_notebook.ipynb)\n",
    "1. [soln_button_test](soln_button_test.ipynb)\n",
    "1. [soln_first_notebook](soln_toggle_led.ipynb)"
   ]
  }
 ],
 "metadata": {
  "language_info": {
   "name": "python"
  }
 },
 "nbformat": 4,
 "nbformat_minor": 2
}
